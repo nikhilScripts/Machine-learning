{
  "cells": [
    {
      "cell_type": "markdown",
      "metadata": {
        "id": "view-in-github",
        "colab_type": "text"
      },
      "source": [
        "<a href=\"https://colab.research.google.com/github/nikhilScripts/Machine-learning/blob/main/deeplearning_RNN.ipynb\" target=\"_parent\"><img src=\"https://colab.research.google.com/assets/colab-badge.svg\" alt=\"Open In Colab\"/></a>"
      ]
    },
    {
      "cell_type": "markdown",
      "metadata": {
        "id": "bWvGwRXWl1hc"
      },
      "source": [
        "# RNN"
      ]
    },
    {
      "cell_type": "code",
      "execution_count": null,
      "metadata": {
        "colab": {
          "base_uri": "https://localhost:8080/"
        },
        "id": "DBLE_Nl3td_c",
        "outputId": "927ec97c-9991-4359-a1f2-5021f6c4407c"
      },
      "outputs": [
        {
          "output_type": "stream",
          "name": "stdout",
          "text": [
            "--2025-02-06 14:53:53--  https://download.pytorch.org/tutorial/data.zip\n",
            "Resolving download.pytorch.org (download.pytorch.org)... 18.172.170.8, 18.172.170.43, 18.172.170.106, ...\n",
            "Connecting to download.pytorch.org (download.pytorch.org)|18.172.170.8|:443... connected.\n",
            "HTTP request sent, awaiting response... 200 OK\n",
            "Length: 2882130 (2.7M) [application/zip]\n",
            "Saving to: ‘data.zip’\n",
            "\n",
            "\rdata.zip              0%[                    ]       0  --.-KB/s               \rdata.zip            100%[===================>]   2.75M  --.-KB/s    in 0.06s   \n",
            "\n",
            "2025-02-06 14:53:53 (49.9 MB/s) - ‘data.zip’ saved [2882130/2882130]\n",
            "\n"
          ]
        }
      ],
      "source": [
        "!wget https://download.pytorch.org/tutorial/data.zip"
      ]
    },
    {
      "cell_type": "code",
      "execution_count": null,
      "metadata": {
        "colab": {
          "base_uri": "https://localhost:8080/"
        },
        "id": "hHwu7-i6t3mP",
        "outputId": "3e6d7e23-294f-4475-b784-51dafa9c2801"
      },
      "outputs": [
        {
          "output_type": "stream",
          "name": "stdout",
          "text": [
            "Archive:  data.zip\n",
            "   creating: data/\n",
            "  inflating: data/eng-fra.txt        \n",
            "   creating: data/names/\n",
            "  inflating: data/names/Arabic.txt   \n",
            "  inflating: data/names/Chinese.txt  \n",
            "  inflating: data/names/Czech.txt    \n",
            "  inflating: data/names/Dutch.txt    \n",
            "  inflating: data/names/English.txt  \n",
            "  inflating: data/names/French.txt   \n",
            "  inflating: data/names/German.txt   \n",
            "  inflating: data/names/Greek.txt    \n",
            "  inflating: data/names/Irish.txt    \n",
            "  inflating: data/names/Italian.txt  \n",
            "  inflating: data/names/Japanese.txt  \n",
            "  inflating: data/names/Korean.txt   \n",
            "  inflating: data/names/Polish.txt   \n",
            "  inflating: data/names/Portuguese.txt  \n",
            "  inflating: data/names/Russian.txt  \n",
            "  inflating: data/names/Scottish.txt  \n",
            "  inflating: data/names/Spanish.txt  \n",
            "  inflating: data/names/Vietnamese.txt  \n"
          ]
        }
      ],
      "source": [
        "!unzip *.zip"
      ]
    },
    {
      "cell_type": "code",
      "execution_count": null,
      "metadata": {
        "id": "AIr4X3r1t9FS"
      },
      "outputs": [],
      "source": [
        "import os\n",
        "import numpy as np\n",
        "import unicodedata\n",
        "import string\n",
        "import torch\n",
        "import torch.nn as nn"
      ]
    },
    {
      "cell_type": "markdown",
      "metadata": {
        "id": "-pbGhf0anPPW"
      },
      "source": [
        "Getting data"
      ]
    },
    {
      "cell_type": "code",
      "execution_count": null,
      "metadata": {
        "colab": {
          "base_uri": "https://localhost:8080/"
        },
        "id": "x3WnkJLQucWE",
        "outputId": "7f734ff4-7cf6-4c25-8a9c-ebe6f887d6fb"
      },
      "outputs": [
        {
          "output_type": "execute_result",
          "data": {
            "text/plain": [
              "57"
            ]
          },
          "metadata": {},
          "execution_count": 4
        }
      ],
      "source": [
        "all_letters = string.ascii_letters + \" .,;'\"\n",
        "n_letters = len(all_letters)\n",
        "n_letters"
      ]
    },
    {
      "cell_type": "code",
      "execution_count": null,
      "metadata": {
        "id": "mX76fOe9u0os"
      },
      "outputs": [],
      "source": [
        "# converting all data in ascii words\n",
        "def unicodeToAscii(s):\n",
        "    return ''.join(\n",
        "        c for c in unicodedata.normalize('NFD', s)\n",
        "        if unicodedata.category(c) != 'Mn'\n",
        "        and c in all_letters\n",
        "    )"
      ]
    },
    {
      "cell_type": "code",
      "execution_count": null,
      "metadata": {
        "colab": {
          "base_uri": "https://localhost:8080/"
        },
        "id": "5SWTqnL_wQTf",
        "outputId": "41a829b3-c778-4c02-f929-98790ee76453"
      },
      "outputs": [
        {
          "output_type": "stream",
          "name": "stdout",
          "text": [
            "Converting unicode to ascii words:  Slusarski \n"
          ]
        }
      ],
      "source": [
        "print(f'Converting unicode to ascii words:  {unicodeToAscii(\"Ślusàrski\")} ')"
      ]
    },
    {
      "cell_type": "code",
      "execution_count": null,
      "metadata": {
        "id": "73MEJpTLw71d"
      },
      "outputs": [],
      "source": [
        "all_names = []\n",
        "all_country = []"
      ]
    },
    {
      "cell_type": "code",
      "execution_count": null,
      "metadata": {
        "id": "cWO5hDx41jW1"
      },
      "outputs": [],
      "source": [
        "for f in os.listdir('/content/data/names'):\n",
        "  fl = open('/content/data/names/'+f, 'r')\n",
        "  lis = fl.readlines()\n",
        "  clean_lis = list(map(unicodeToAscii, lis))\n",
        "  all_names.extend(clean_lis)\n",
        "  all_country.extend([f.split('.')[0]] * len(clean_lis))"
      ]
    },
    {
      "cell_type": "code",
      "execution_count": null,
      "metadata": {
        "colab": {
          "base_uri": "https://localhost:8080/"
        },
        "id": "_L6S2yMs3e7q",
        "outputId": "44294cda-6bd1-46b1-c2b6-c1a3257a0c20"
      },
      "outputs": [
        {
          "output_type": "stream",
          "name": "stdout",
          "text": [
            "['Adam', 'Ahearn', 'Aodh', 'Aodha', 'Aonghuis', 'Aonghus', 'Bhrighde', 'Bradach', 'Bradan', 'Braden', 'Brady', 'Bran', 'Brannon', 'Brian', 'Callaghan', 'Caomh', 'Carey', 'Casey', 'Cassidy', 'Cathain', 'Cathan', 'Cathasach', 'Ceallach', 'Ceallachan', 'Cearbhall', 'Cennetig', 'Ciardha', 'Clark', 'Cleirich', 'Cleirigh', 'Cnaimhin', 'Coghlan', 'Coilean', 'Collins', 'Colman', 'Conall', 'Conchobhar', 'Conn', 'Connell', 'Connolly', 'Cormac', 'Corraidhin', 'Cuidightheach', 'Curran', 'Dubhshlaine', 'Dalach', 'Daly', 'Damhain', 'Damhan', 'Delaney', 'Desmond', 'Devin', 'Diarmaid', 'Doherty', 'Domhnall', 'Donnchadh', 'Donndubhan', 'Donnell', 'Donoghue', 'Donovan', 'Doyle', 'Dubhain', 'Dubhan', 'Duncan', 'Eoghan', 'Eoin', 'Eoin', 'Faolan', 'Farrell', 'Fearghal', 'Fergus', 'Finn', 'Finnegan', 'Fionn', 'Flanagan', 'Flann', 'Flynn', 'Gallchobhar', 'Gerald', 'Giolla', 'Gorman', 'Hayden', 'Ivor', 'John', 'Kavanagh', 'Keefe', 'Kelly', 'Kennedy', 'Lennon', 'Login', 'Macclelland', 'Macdermott', 'Maceachthighearna', 'Macfarland', 'Macghabhann', 'Maciomhair', 'Macshuibhne', 'Madaidhin', 'Madden', 'Maguire', 'Mahoney', 'Maille', 'Malone', 'Manus', 'Maolmhuaidh', 'Mathghamhain', 'Maurice', 'Mcguire', 'Mckay', 'Mclain', 'Mcmahon', 'Mcnab', 'Mcneil', 'Meadhra', 'Michael', 'Milligan', 'Mochan', 'Mohan', 'Molloy', 'Monahan', 'Mooney', 'Muirchertach', 'Mullen', 'Mulryan', 'Murchadh', 'Murphy', 'Names', 'Naoimhin', 'Naomhan', 'Neil', 'Neville', 'Nevin', 'Niadh', 'Niall', 'Nolan', 'Nuallan', \"O'Boyle\", \"O'Brien\", \"O'Byrne\", \"O'Donnell\", \"O'Hannagain\", \"O'Hannigain\", \"O'Keefe\", \"O'Mooney\", \"O'Neal\", \"O'Boyle\", \"O'Bree\", \"O'Brian\", \"O'Brien\", \"O'Callaghann\", \"O'Connell\", \"O'Connor\", \"O'Dell\", \"O'Doherty\", \"O'Donnell\", \"O'Donoghue\", \"O'Dowd\", \"O'Driscoll\", \"O'Gorman\", \"O'Grady\", \"O'Hagan\", \"O'Halloran\", \"O'Hanlon\", \"O'Hara\", \"O'Hare\", \"O'Kane\", \"O'Keefe\", \"O'Keeffe\", \"O'Kelly\", \"O'Leary\", \"O'Loughlin\", \"O'Mahoney\", \"O'Mahony\", \"O'Malley\", \"O'Meara\", \"O'Neal\", \"O'Neill\", \"O'Reilly\", \"O'Rourke\", \"O'Ryan\", \"O'Shea\", \"O'Sullivan\", \"O'Toole\", 'Patrick', 'Peatain', 'Pharlain', 'Power', 'Quigley', 'Quinn', 'Quirke', 'Raghailligh', 'Reagan', 'Register', 'Reilly', 'Reynold', 'Rhys', 'Riagain', 'Riagan', 'Riain', 'Rian', 'Rinn', 'Roach', 'Rodagh', 'Rory', 'Ruadh', 'Ruadhain', 'Ruadhan', 'Ruaidh', 'Samuel', 'Scolaidhe', 'Seaghdha', 'Sechnall', 'Seighin', 'Shannon', 'Sheehy', 'Simon', 'Sioda', 'Sloan', 'Sluaghadhan', 'Suaird', 'Sullivan', 'Tadhg', 'Tadhgan', 'Taidhg', 'Teagan', 'Teague', 'Tighearnach', 'Tracey', 'Treasach', 'Whalen', 'Whelan', 'William']\n"
          ]
        }
      ],
      "source": [
        "print(clean_lis)"
      ]
    },
    {
      "cell_type": "code",
      "execution_count": null,
      "metadata": {
        "colab": {
          "base_uri": "https://localhost:8080/"
        },
        "id": "aeZpsbEp4elz",
        "outputId": "eacd925d-2b21-44cd-dead-cfc0907aa967"
      },
      "outputs": [
        {
          "output_type": "stream",
          "name": "stdout",
          "text": [
            "20074\n"
          ]
        }
      ],
      "source": [
        "n_rows = len(all_names)\n",
        "print(n_rows)"
      ]
    },
    {
      "cell_type": "code",
      "execution_count": null,
      "metadata": {
        "id": "T2o8iGa86w8B"
      },
      "outputs": [],
      "source": [
        "emb = torch.eye(n_letters)\n",
        "mapping = dict(zip(np.unique(all_country), range(n_rows)))"
      ]
    },
    {
      "cell_type": "code",
      "execution_count": null,
      "metadata": {
        "colab": {
          "base_uri": "https://localhost:8080/"
        },
        "id": "m37fSoMu7Wmj",
        "outputId": "30628598-4dfa-43b5-84ea-5e3d39d98839"
      },
      "outputs": [
        {
          "output_type": "execute_result",
          "data": {
            "text/plain": [
              "{'Arabic': 0,\n",
              " 'Chinese': 1,\n",
              " 'Czech': 2,\n",
              " 'Dutch': 3,\n",
              " 'English': 4,\n",
              " 'French': 5,\n",
              " 'German': 6,\n",
              " 'Greek': 7,\n",
              " 'Irish': 8,\n",
              " 'Italian': 9,\n",
              " 'Japanese': 10,\n",
              " 'Korean': 11,\n",
              " 'Polish': 12,\n",
              " 'Portuguese': 13,\n",
              " 'Russian': 14,\n",
              " 'Scottish': 15,\n",
              " 'Spanish': 16,\n",
              " 'Vietnamese': 17}"
            ]
          },
          "metadata": {},
          "execution_count": 12
        }
      ],
      "source": [
        "mapping"
      ]
    },
    {
      "cell_type": "code",
      "execution_count": null,
      "metadata": {
        "colab": {
          "base_uri": "https://localhost:8080/"
        },
        "id": "t9-TzJUK7ZL8",
        "outputId": "ba35f7af-f2dd-4eee-ba69-018c0b8b36ca"
      },
      "outputs": [
        {
          "output_type": "execute_result",
          "data": {
            "text/plain": [
              "torch.Size([57, 57])"
            ]
          },
          "metadata": {},
          "execution_count": 13
        }
      ],
      "source": [
        "emb.shape"
      ]
    },
    {
      "cell_type": "code",
      "execution_count": null,
      "metadata": {
        "id": "11N5vG1-mlR6"
      },
      "outputs": [],
      "source": [
        "def get_data(idx):\n",
        "  name = all_names[idx]\n",
        "  country = all_country[idx]\n",
        "  name_char_lis = np.array(list(name))\n",
        "  return name_char_lis"
      ]
    },
    {
      "cell_type": "code",
      "execution_count": null,
      "metadata": {
        "colab": {
          "base_uri": "https://localhost:8080/"
        },
        "id": "ZNQ9G4Ddm02o",
        "outputId": "a8c11cdc-b8fb-4690-ac55-536979b62bad"
      },
      "outputs": [
        {
          "output_type": "stream",
          "name": "stdout",
          "text": [
            "['A' 'h' 'n']\n"
          ]
        }
      ],
      "source": [
        "print(get_data(0))"
      ]
    },
    {
      "cell_type": "code",
      "execution_count": null,
      "metadata": {
        "colab": {
          "base_uri": "https://localhost:8080/",
          "height": 36
        },
        "id": "OcHQv7Tvm6Dw",
        "outputId": "1ec9ec89-74b7-4897-ca7a-34bddb9ddbff"
      },
      "outputs": [
        {
          "output_type": "execute_result",
          "data": {
            "text/plain": [
              "\"abcdefghijklmnopqrstuvwxyzABCDEFGHIJKLMNOPQRSTUVWXYZ .,;'\""
            ],
            "application/vnd.google.colaboratory.intrinsic+json": {
              "type": "string"
            }
          },
          "metadata": {},
          "execution_count": 16
        }
      ],
      "source": [
        "all_letters"
      ]
    },
    {
      "cell_type": "code",
      "execution_count": null,
      "metadata": {
        "id": "s8DzD01Zo6fn"
      },
      "outputs": [],
      "source": [
        "# [N, g , y, e, n] -> indixes  -> emb[]    ONE HOT ENCODING\n",
        "def get_data(idx):\n",
        "  name = all_names[idx]\n",
        "  country = all_country[idx]\n",
        "  name_char_lis = np.array(list(name))\n",
        "  indices = np.where(name_char_lis[..., None] == np.array(list(all_letters)))[1]\n",
        "  return emb[torch.from_numpy(indices)] , torch.tensor(mapping[country])"
      ]
    },
    {
      "cell_type": "code",
      "execution_count": null,
      "metadata": {
        "colab": {
          "base_uri": "https://localhost:8080/"
        },
        "id": "lT1SorJHq37p",
        "outputId": "41f9dae0-2db8-4407-a25b-7cdce58e1e87"
      },
      "outputs": [
        {
          "output_type": "execute_result",
          "data": {
            "text/plain": [
              "(tensor([[0., 0., 0., 0., 0., 0., 0., 0., 0., 0., 0., 0., 0., 0., 0., 0., 0., 0.,\n",
              "          0., 0., 0., 0., 0., 0., 0., 0., 1., 0., 0., 0., 0., 0., 0., 0., 0., 0.,\n",
              "          0., 0., 0., 0., 0., 0., 0., 0., 0., 0., 0., 0., 0., 0., 0., 0., 0., 0.,\n",
              "          0., 0., 0.],\n",
              "         [0., 0., 0., 0., 0., 0., 0., 1., 0., 0., 0., 0., 0., 0., 0., 0., 0., 0.,\n",
              "          0., 0., 0., 0., 0., 0., 0., 0., 0., 0., 0., 0., 0., 0., 0., 0., 0., 0.,\n",
              "          0., 0., 0., 0., 0., 0., 0., 0., 0., 0., 0., 0., 0., 0., 0., 0., 0., 0.,\n",
              "          0., 0., 0.],\n",
              "         [0., 0., 0., 0., 0., 0., 0., 0., 0., 0., 0., 0., 0., 1., 0., 0., 0., 0.,\n",
              "          0., 0., 0., 0., 0., 0., 0., 0., 0., 0., 0., 0., 0., 0., 0., 0., 0., 0.,\n",
              "          0., 0., 0., 0., 0., 0., 0., 0., 0., 0., 0., 0., 0., 0., 0., 0., 0., 0.,\n",
              "          0., 0., 0.]]),\n",
              " tensor(11))"
            ]
          },
          "metadata": {},
          "execution_count": 18
        }
      ],
      "source": [
        "get_data(0)"
      ]
    },
    {
      "cell_type": "code",
      "execution_count": null,
      "metadata": {
        "id": "LoU17JTiq_It"
      },
      "outputs": [],
      "source": [
        "class Net(nn.Module):\n",
        "  def __init__(self, n_country, n_letters):\n",
        "    super(Net, self).__init__()\n",
        "    self.rnn = nn.RNN(n_letters, 2* n_letters)\n",
        "    self.fc = nn.Linear(2 * n_letters, n_country)\n",
        "  def forward(self, x):\n",
        "    out, _ = self.rnn(x)\n",
        "    out1 = self.fc(out[-1 , :])\n",
        "    return out1"
      ]
    },
    {
      "cell_type": "code",
      "execution_count": null,
      "metadata": {
        "colab": {
          "base_uri": "https://localhost:8080/"
        },
        "id": "2ouhtwWVXtCp",
        "outputId": "216e9208-b138-42d9-ebe2-2943b4f8942d"
      },
      "outputs": [
        {
          "output_type": "execute_result",
          "data": {
            "text/plain": [
              "Net(\n",
              "  (rnn): RNN(57, 114)\n",
              "  (fc): Linear(in_features=114, out_features=18, bias=True)\n",
              ")"
            ]
          },
          "metadata": {},
          "execution_count": 20
        }
      ],
      "source": [
        "model = Net(len(np.unique(all_country)) , n_letters)\n",
        "model"
      ]
    },
    {
      "cell_type": "code",
      "execution_count": null,
      "metadata": {
        "id": "pLZqHHkiY5e9"
      },
      "outputs": [],
      "source": [
        "loss_fn = nn.CrossEntropyLoss()\n",
        "optimizer = torch.optim.SGD(model.parameters(), lr = 0.0001)"
      ]
    },
    {
      "cell_type": "code",
      "execution_count": null,
      "metadata": {
        "id": "PfDIrn_XZHiW"
      },
      "outputs": [],
      "source": [
        "# num_epochs = 30\n",
        "# all_losses = []\n",
        "# for epoch in range(num_epochs):\n",
        "#   arr = np.arange(n_rows)\n",
        "#   np.random.shuffle(arr)\n",
        "#   epoch_loss = 0\n",
        "#   for i in arr:\n",
        "#     data, target = get_data(i)\n",
        "#     output = model(data)\n",
        "#     loss = loss_fn(output, target)\n",
        "#     # Detach the loss, move to CPU, and convert to NumPy array\n",
        "#     epoch_loss += loss.detach().cpu().numpy()\n",
        "\n",
        "#     optimizer.zero_grad()\n",
        "#     loss.backward()\n",
        "#     optimizer.step()\n",
        "#   all_losses.append(epoch_loss)"
      ]
    },
    {
      "cell_type": "code",
      "execution_count": null,
      "metadata": {
        "colab": {
          "base_uri": "https://localhost:8080/",
          "height": 447
        },
        "id": "wZ_cjkXrgiyd",
        "outputId": "5908fbc7-800f-4bec-e905-f493145b3923"
      },
      "outputs": [
        {
          "output_type": "execute_result",
          "data": {
            "text/plain": [
              "[<matplotlib.lines.Line2D at 0x7df9d68f5e90>]"
            ]
          },
          "metadata": {},
          "execution_count": 23
        },
        {
          "output_type": "display_data",
          "data": {
            "text/plain": [
              "<Figure size 640x480 with 1 Axes>"
            ],
            "image/png": "[encoded data removed]"
          },
          "metadata": {}
        }
      ],
      "source": [
        "import os\n",
        "import numpy as np\n",
        "import unicodedata\n",
        "import string\n",
        "import torch\n",
        "import torch.nn as nn\n",
        "import matplotlib.pyplot as plt\n",
        "\n",
        "# ... (rest of your code) ...\n",
        "\n",
        "# Check if CUDA is available and move the model to the GPU\n",
        "if torch.cuda.is_available():\n",
        "    device = torch.device(\"cuda\")\n",
        "    model.to(device)\n",
        "else:\n",
        "    device = torch.device(\"cpu\")\n",
        "    print(\"CUDA not available, using CPU.\")\n",
        "\n",
        "optimizer = torch.optim.Adam(model.parameters(), lr=1e-3)\n",
        "# The \"capturable\" option is typically used for advanced scenarios\n",
        "# involving CUDA graphs. Unless specifically needed, it's generally\n",
        "# recommended to leave it at its default value (False).\n",
        "# for param_group in optimizer.param_groups:\n",
        "#     param_group['capturable'] = True\n",
        "\n",
        "num_epochs = 30\n",
        "all_losses = []\n",
        "for epoch in range(num_epochs):\n",
        "    arr = np.arange(n_rows)\n",
        "    np.random.shuffle(arr)\n",
        "    epoch_loss = 0\n",
        "    for i in arr:\n",
        "        # Move data and target to the appropriate device\n",
        "        data, target = get_data(i)\n",
        "        data, target = data.to(device), target.to(device)\n",
        "\n",
        "        output = model(data)\n",
        "        loss = loss_fn(output, target)\n",
        "        epoch_loss += loss.detach().cpu().numpy()\n",
        "\n",
        "        optimizer.zero_grad()\n",
        "        loss.backward()\n",
        "        optimizer.step()\n",
        "\n",
        "    all_losses.append(epoch_loss)\n",
        "\n",
        "plt.plot(all_losses)"
      ]
    },
    {
      "cell_type": "markdown",
      "metadata": {
        "id": "wEkKW4mBdQ0Q"
      },
      "source": [
        "# RNN_V1 -> classifying names"
      ]
    },
    {
      "cell_type": "code",
      "execution_count": null,
      "metadata": {
        "id": "BgowiCP-ufOw"
      },
      "outputs": [],
      "source": []
    },
    {
      "cell_type": "code",
      "execution_count": null,
      "metadata": {
        "id": "IBAUnbbu79AV",
        "colab": {
          "base_uri": "https://localhost:8080/"
        },
        "outputId": "0a873239-c2b8-4436-f4cc-371e5eebf828"
      },
      "outputs": [
        {
          "output_type": "stream",
          "name": "stdout",
          "text": [
            "# categories: 18 ['Korean', 'Dutch', 'Italian', 'Scottish', 'Portuguese', 'Russian', 'Czech', 'Chinese', 'Vietnamese', 'Greek', 'Polish', 'Arabic', 'Spanish', 'French', 'English', 'Japanese', 'German', 'Irish']\n",
            "O'Neal\n"
          ]
        }
      ],
      "source": [
        "from io import open\n",
        "import glob\n",
        "import os\n",
        "import unicodedata\n",
        "import string\n",
        "\n",
        "all_letters = string.ascii_letters + \" .,;'-\"\n",
        "n_letters = len(all_letters) + 1 # Plus EOS marker\n",
        "\n",
        "def findFiles(path): return glob.glob(path)\n",
        "def unicodeToAscii(s):\n",
        "    return ''.join(\n",
        "        c for c in unicodedata.normalize('NFD', s)\n",
        "        if unicodedata.category(c) != 'Mn'\n",
        "        and c in all_letters\n",
        "    )\n",
        "\n",
        "# Read a file and split into lines\n",
        "def readLines(filename):\n",
        "    with open(filename, encoding='utf-8') as some_file:\n",
        "        return [unicodeToAscii(line.strip()) for line in some_file]\n",
        "\n",
        "# Build the category_lines dictionary, a list of lines per category\n",
        "category_lines = {}\n",
        "all_categories = []\n",
        "for filename in findFiles('data/names/*.txt'):\n",
        "    category = os.path.splitext(os.path.basename(filename))[0]\n",
        "    all_categories.append(category)\n",
        "    lines = readLines(filename)\n",
        "    category_lines[category] = lines\n",
        "\n",
        "n_categories = len(all_categories)\n",
        "\n",
        "if n_categories == 0:\n",
        "    raise RuntimeError('Data not found. Make sure that you downloaded data '\n",
        "        'from https://download.pytorch.org/tutorial/data.zip and extract it to '\n",
        "        'the current directory.')\n",
        "\n",
        "print('# categories:', n_categories, all_categories)\n",
        "print(unicodeToAscii(\"O'Néàl\"))"
      ]
    },
    {
      "cell_type": "markdown",
      "metadata": {
        "id": "NnlmrjSN_UQL"
      },
      "source": [
        "Creating a network"
      ]
    },
    {
      "cell_type": "code",
      "execution_count": null,
      "metadata": {
        "id": "0SyVBm7oAGf1"
      },
      "outputs": [],
      "source": [
        "import torch\n",
        "import torch.nn as nn\n",
        "\n",
        "class RNN(nn.Module):\n",
        "    def __init__(self, input_size, hidden_size, output_size):\n",
        "        super(RNN, self).__init__()\n",
        "        self.hidden_size = hidden_size\n",
        "\n",
        "        self.i2h = nn.Linear(n_categories + input_size + hidden_size, hidden_size)\n",
        "        self.i2o = nn.Linear(n_categories + input_size + hidden_size, output_size)\n",
        "        self.o2o = nn.Linear(hidden_size + output_size, output_size)\n",
        "        self.dropout = nn.Dropout(0.1)\n",
        "        self.softmax = nn.LogSoftmax(dim=1)\n",
        "\n",
        "    def forward(self, category, input, hidden):\n",
        "        input_combined = torch.cat((category, input, hidden), 1)\n",
        "        hidden = self.i2h(input_combined)\n",
        "        output = self.i2o(input_combined)\n",
        "        output_combined = torch.cat((hidden, output), 1)\n",
        "        output = self.o2o(output_combined)\n",
        "        output = self.dropout(output)\n",
        "        output = self.softmax(output)\n",
        "        return output, hidden\n",
        "\n",
        "    def initHidden(self):\n",
        "        return torch.zeros(1, self.hidden_size)"
      ]
    },
    {
      "cell_type": "markdown",
      "metadata": {
        "id": "TyxufHUyBxQl"
      },
      "source": [
        "preparing for training"
      ]
    },
    {
      "cell_type": "code",
      "execution_count": null,
      "metadata": {
        "id": "e0yBx4hYAI9H"
      },
      "outputs": [],
      "source": [
        "import random\n",
        "\n",
        "# Random item from a list\n",
        "def randomChoice(l):\n",
        "    return l[random.randint(0, len(l) - 1)]\n",
        "\n",
        "# Get a random category and random line from that category\n",
        "def randomTrainingPair():\n",
        "    category = randomChoice(all_categories)\n",
        "    line = randomChoice(category_lines[category])\n",
        "    return category, line"
      ]
    },
    {
      "cell_type": "code",
      "execution_count": null,
      "metadata": {
        "id": "ETLIg_yPANdI"
      },
      "outputs": [],
      "source": [
        "# One-hot vector for category\n",
        "def categoryTensor(category):\n",
        "    li = all_categories.index(category)\n",
        "    tensor = torch.zeros(1, n_categories)\n",
        "    tensor[0][li] = 1\n",
        "    return tensor\n",
        "\n",
        "# One-hot matrix of first to last letters (not including EOS) for input\n",
        "def inputTensor(line):\n",
        "    tensor = torch.zeros(len(line), 1, n_letters)\n",
        "    for li in range(len(line)):\n",
        "        letter = line[li]\n",
        "        tensor[li][0][all_letters.find(letter)] = 1\n",
        "    return tensor\n",
        "\n",
        "# ``LongTensor`` of second letter to end (EOS) for target\n",
        "def targetTensor(line):\n",
        "    letter_indexes = [all_letters.find(line[li]) for li in range(1, len(line))]\n",
        "    letter_indexes.append(n_letters - 1) # EOS\n",
        "    return torch.LongTensor(letter_indexes)"
      ]
    },
    {
      "cell_type": "code",
      "execution_count": null,
      "metadata": {
        "id": "XJEQdGG-AQuE"
      },
      "outputs": [],
      "source": [
        "# Make category, input, and target tensors from a random category, line pair\n",
        "def randomTrainingExample():\n",
        "    category, line = randomTrainingPair()\n",
        "    category_tensor = categoryTensor(category)\n",
        "    input_line_tensor = inputTensor(line)\n",
        "    target_line_tensor = targetTensor(line)\n",
        "    return category_tensor, input_line_tensor, target_line_tensor"
      ]
    },
    {
      "cell_type": "markdown",
      "metadata": {
        "id": "Jv6a2zzpB4-0"
      },
      "source": [
        "Training the network"
      ]
    },
    {
      "cell_type": "code",
      "execution_count": null,
      "metadata": {
        "id": "hQstFH8HAVZd"
      },
      "outputs": [],
      "source": [
        "criterion = nn.NLLLoss()\n",
        "\n",
        "learning_rate = 0.0005\n",
        "\n",
        "def train(category_tensor, input_line_tensor, target_line_tensor):\n",
        "    target_line_tensor.unsqueeze_(-1)\n",
        "    hidden = rnn.initHidden()\n",
        "\n",
        "    rnn.zero_grad()\n",
        "\n",
        "    loss = torch.Tensor([0]) # you can also just simply use ``loss = 0``\n",
        "\n",
        "    for i in range(input_line_tensor.size(0)):\n",
        "        output, hidden = rnn(category_tensor, input_line_tensor[i], hidden)\n",
        "        l = criterion(output, target_line_tensor[i])\n",
        "        loss += l\n",
        "\n",
        "    loss.backward()\n",
        "\n",
        "    for p in rnn.parameters():\n",
        "        p.data.add_(p.grad.data, alpha=-learning_rate)\n",
        "\n",
        "    return output, loss.item() / input_line_tensor.size(0)"
      ]
    },
    {
      "cell_type": "code",
      "execution_count": null,
      "metadata": {
        "id": "gnETZJwkAX_5"
      },
      "outputs": [],
      "source": [
        "import time\n",
        "import math\n",
        "\n",
        "def timeSince(since):\n",
        "    now = time.time()\n",
        "    s = now - since\n",
        "    m = math.floor(s / 60)\n",
        "    s -= m * 60\n",
        "    return '%dm %ds' % (m, s)"
      ]
    },
    {
      "cell_type": "code",
      "execution_count": null,
      "metadata": {
        "id": "nT-Qkge7Abm3",
        "colab": {
          "base_uri": "https://localhost:8080/",
          "height": 396,
          "referenced_widgets": [
            "81746a3abcaa4ebcb99ca96fa2dd7f7b",
            "8e483b4ffd1448a6a25d7ae4ca31299b",
            "8b4ef0a1a0df4bcd92a64da6aebdd162",
            "993460b68f1e408db797ab6e9a48f877",
            "42aaffb4024a4765afd271887f6d5d59",
            "ed88cc773227431c932acda423e81c55",
            "b3f79e55246b4d38b592d358d7ccdf4f",
            "7b429a20c5764535adc7a8473f2a4849",
            "0ca0568b902247589c5154148dabb31c",
            "0541d1b2cda04062aa0970dde0c9d4ae",
            "c33942baf03947c0b8abdc76ddd50148"
          ]
        },
        "outputId": "5fcbaf3e-b629-489a-f52e-deddae6d7c67"
      },
      "outputs": [
        {
          "output_type": "display_data",
          "data": {
            "text/plain": [
              "  0%|          | 0/100000 [00:00<?, ?it/s]"
            ],
            "application/vnd.jupyter.widget-view+json": {
              "version_major": 2,
              "version_minor": 0,
              "model_id": "81746a3abcaa4ebcb99ca96fa2dd7f7b"
            }
          },
          "metadata": {}
        },
        {
          "output_type": "stream",
          "name": "stdout",
          "text": [
            "0m 15s (5000 5%) 2.6977\n",
            "0m 31s (10000 10%) 2.2369\n",
            "0m 47s (15000 15%) 2.6447\n",
            "1m 2s (20000 20%) 2.4230\n",
            "1m 17s (25000 25%) 2.8696\n",
            "1m 33s (30000 30%) 2.3886\n",
            "1m 49s (35000 35%) 1.9659\n",
            "2m 4s (40000 40%) 2.3473\n",
            "2m 19s (45000 45%) 2.5756\n",
            "2m 35s (50000 50%) 2.1930\n",
            "2m 50s (55000 55%) 2.0102\n",
            "3m 6s (60000 60%) 2.2169\n",
            "3m 21s (65000 65%) 2.7443\n",
            "3m 36s (70000 70%) 2.0597\n",
            "3m 52s (75000 75%) 2.7558\n",
            "4m 8s (80000 80%) 2.1951\n",
            "4m 23s (85000 85%) 2.1680\n",
            "4m 38s (90000 90%) 1.8149\n",
            "4m 54s (95000 95%) 2.0767\n",
            "5m 9s (100000 100%) 1.9402\n"
          ]
        }
      ],
      "source": [
        "from tqdm.auto import tqdm\n",
        "rnn = RNN(n_letters, 128, n_letters)\n",
        "\n",
        "n_iters = 100000\n",
        "print_every = 5000\n",
        "plot_every = 500\n",
        "all_losses = []\n",
        "total_loss = 0 # Reset every ``plot_every`` ``iters``\n",
        "\n",
        "start = time.time()\n",
        "\n",
        "for iter in tqdm(range(1, n_iters + 1)):\n",
        "    output, loss = train(*randomTrainingExample())\n",
        "    total_loss += loss\n",
        "\n",
        "    if iter % print_every == 0:\n",
        "        print('%s (%d %d%%) %.4f' % (timeSince(start), iter, iter / n_iters * 100, loss))\n",
        "\n",
        "    if iter % plot_every == 0:\n",
        "        all_losses.append(total_loss / plot_every)\n",
        "        total_loss = 0"
      ]
    },
    {
      "cell_type": "code",
      "execution_count": null,
      "metadata": {
        "id": "bZUZ7UEKBd2p",
        "colab": {
          "base_uri": "https://localhost:8080/",
          "height": 447
        },
        "outputId": "384c7de1-2d56-4a40-be7e-ae81d879b1ac"
      },
      "outputs": [
        {
          "output_type": "execute_result",
          "data": {
            "text/plain": [
              "[<matplotlib.lines.Line2D at 0x7df9ad308a90>]"
            ]
          },
          "metadata": {},
          "execution_count": 32
        },
        {
          "output_type": "display_data",
          "data": {
            "text/plain": [
              "<Figure size 640x480 with 1 Axes>"
            ],
            "image/png": "[encoded data removed]"
          },
          "metadata": {}
        }
      ],
      "source": [
        "# plot loss\n",
        "import matplotlib.pyplot as plt\n",
        "\n",
        "plt.figure()\n",
        "plt.plot(all_losses)"
      ]
    },
    {
      "cell_type": "code",
      "execution_count": null,
      "metadata": {
        "id": "r6DG2PiZuibn",
        "colab": {
          "base_uri": "https://localhost:8080/"
        },
        "outputId": "bda96193-4a89-4fd7-852a-efb9ef9cc634"
      },
      "outputs": [
        {
          "output_type": "stream",
          "name": "stdout",
          "text": [
            "Rovanov\n",
            "Uarinov\n",
            "Sharakov\n",
            "Garen\n",
            "Eerter\n",
            "Rangerr\n",
            "Santara\n",
            "Paran\n",
            "Anten\n",
            "Chan\n",
            "Han\n",
            "ino\n"
          ]
        }
      ],
      "source": [
        "max_length = 20\n",
        "\n",
        "# Sample from a category and starting letter\n",
        "def sample(category, start_letter='A'):\n",
        "    with torch.no_grad():  # no need to track history in sampling\n",
        "        category_tensor = categoryTensor(category)\n",
        "        input = inputTensor(start_letter)\n",
        "        hidden = rnn.initHidden()\n",
        "\n",
        "        output_name = start_letter\n",
        "\n",
        "        for i in range(max_length):\n",
        "            output, hidden = rnn(category_tensor, input[0], hidden)\n",
        "            topv, topi = output.topk(1)\n",
        "            topi = topi[0][0]\n",
        "            if topi == n_letters - 1:\n",
        "                break\n",
        "            else:\n",
        "                letter = all_letters[topi]\n",
        "                output_name += letter\n",
        "            input = inputTensor(letter)\n",
        "\n",
        "        return output_name\n",
        "\n",
        "# Get multiple samples from one category and multiple starting letters\n",
        "def samples(category, start_letters='ABC'):\n",
        "    for start_letter in start_letters:\n",
        "        print(sample(category, start_letter))\n",
        "\n",
        "samples('Russian', 'RUS')\n",
        "\n",
        "samples('German', 'GER')\n",
        "\n",
        "samples('Spanish', 'SPA')\n",
        "\n",
        "samples('Chinese', 'CHi')"
      ]
    },
    {
      "cell_type": "markdown",
      "metadata": {
        "id": "jphLUIrMupbb"
      },
      "source": [
        "# Translation with a sequence"
      ]
    },
    {
      "cell_type": "code",
      "execution_count": null,
      "metadata": {
        "id": "xCFbSCnO1G7W"
      },
      "outputs": [],
      "source": []
    }
  ],
  "metadata": {
    "accelerator": "GPU",
    "colab": {
      "gpuType": "T4",
      "provenance": [],
      "toc_visible": true,
      "authorship_tag": "ABX9TyN1D37z1+nTiD6dFz5zurqS",
      "include_colab_link": true
    },
    "kernelspec": {
      "display_name": "Python 3",
      "name": "python3"
    },
    "language_info": {
      "name": "python"
    },
    "widgets": {
      "application/vnd.jupyter.widget-state+json": {
        "81746a3abcaa4ebcb99ca96fa2dd7f7b": {
          "model_module": "@jupyter-widgets/controls",
          "model_name": "HBoxModel",
          "model_module_version": "1.5.0",
          "state": {
            "_dom_classes": [],
            "_model_module": "@jupyter-widgets/controls",
            "_model_module_version": "1.5.0",
            "_model_name": "HBoxModel",
            "_view_count": null,
            "_view_module": "@jupyter-widgets/controls",
            "_view_module_version": "1.5.0",
            "_view_name": "HBoxView",
            "box_style": "",
            "children": [
              "IPY_MODEL_8e483b4ffd1448a6a25d7ae4ca31299b",
              "IPY_MODEL_8b4ef0a1a0df4bcd92a64da6aebdd162",
              "IPY_MODEL_993460b68f1e408db797ab6e9a48f877"
            ],
            "layout": "IPY_MODEL_42aaffb4024a4765afd271887f6d5d59"
          }
        },
        "8e483b4ffd1448a6a25d7ae4ca31299b": {
          "model_module": "@jupyter-widgets/controls",
          "model_name": "HTMLModel",
          "model_module_version": "1.5.0",
          "state": {
            "_dom_classes": [],
            "_model_module": "@jupyter-widgets/controls",
            "_model_module_version": "1.5.0",
            "_model_name": "HTMLModel",
            "_view_count": null,
            "_view_module": "@jupyter-widgets/controls",
            "_view_module_version": "1.5.0",
            "_view_name": "HTMLView",
            "description": "",
            "description_tooltip": null,
            "layout": "IPY_MODEL_ed88cc773227431c932acda423e81c55",
            "placeholder": "​",
            "style": "IPY_MODEL_b3f79e55246b4d38b592d358d7ccdf4f",
            "value": "100%"
          }
        },
        "8b4ef0a1a0df4bcd92a64da6aebdd162": {
          "model_module": "@jupyter-widgets/controls",
          "model_name": "FloatProgressModel",
          "model_module_version": "1.5.0",
          "state": {
            "_dom_classes": [],
            "_model_module": "@jupyter-widgets/controls",
            "_model_module_version": "1.5.0",
            "_model_name": "FloatProgressModel",
            "_view_count": null,
            "_view_module": "@jupyter-widgets/controls",
            "_view_module_version": "1.5.0",
            "_view_name": "ProgressView",
            "bar_style": "success",
            "description": "",
            "description_tooltip": null,
            "layout": "IPY_MODEL_7b429a20c5764535adc7a8473f2a4849",
            "max": 100000,
            "min": 0,
            "orientation": "horizontal",
            "style": "IPY_MODEL_0ca0568b902247589c5154148dabb31c",
            "value": 100000
          }
        },
        "993460b68f1e408db797ab6e9a48f877": {
          "model_module": "@jupyter-widgets/controls",
          "model_name": "HTMLModel",
          "model_module_version": "1.5.0",
          "state": {
            "_dom_classes": [],
            "_model_module": "@jupyter-widgets/controls",
            "_model_module_version": "1.5.0",
            "_model_name": "HTMLModel",
            "_view_count": null,
            "_view_module": "@jupyter-widgets/controls",
            "_view_module_version": "1.5.0",
            "_view_name": "HTMLView",
            "description": "",
            "description_tooltip": null,
            "layout": "IPY_MODEL_0541d1b2cda04062aa0970dde0c9d4ae",
            "placeholder": "​",
            "style": "IPY_MODEL_c33942baf03947c0b8abdc76ddd50148",
            "value": " 100000/100000 [05:09&lt;00:00, 347.46it/s]"
          }
        },
        "42aaffb4024a4765afd271887f6d5d59": {
          "model_module": "@jupyter-widgets/base",
          "model_name": "LayoutModel",
          "model_module_version": "1.2.0",
          "state": {
            "_model_module": "@jupyter-widgets/base",
            "_model_module_version": "1.2.0",
            "_model_name": "LayoutModel",
            "_view_count": null,
            "_view_module": "@jupyter-widgets/base",
            "_view_module_version": "1.2.0",
            "_view_name": "LayoutView",
            "align_content": null,
            "align_items": null,
            "align_self": null,
            "border": null,
            "bottom": null,
            "display": null,
            "flex": null,
            "flex_flow": null,
            "grid_area": null,
            "grid_auto_columns": null,
            "grid_auto_flow": null,
            "grid_auto_rows": null,
            "grid_column": null,
            "grid_gap": null,
            "grid_row": null,
            "grid_template_areas": null,
            "grid_template_columns": null,
            "grid_template_rows": null,
            "height": null,
            "justify_content": null,
            "justify_items": null,
            "left": null,
            "margin": null,
            "max_height": null,
            "max_width": null,
            "min_height": null,
            "min_width": null,
            "object_fit": null,
            "object_position": null,
            "order": null,
            "overflow": null,
            "overflow_x": null,
            "overflow_y": null,
            "padding": null,
            "right": null,
            "top": null,
            "visibility": null,
            "width": null
          }
        },
        "ed88cc773227431c932acda423e81c55": {
          "model_module": "@jupyter-widgets/base",
          "model_name": "LayoutModel",
          "model_module_version": "1.2.0",
          "state": {
            "_model_module": "@jupyter-widgets/base",
            "_model_module_version": "1.2.0",
            "_model_name": "LayoutModel",
            "_view_count": null,
            "_view_module": "@jupyter-widgets/base",
            "_view_module_version": "1.2.0",
            "_view_name": "LayoutView",
            "align_content": null,
            "align_items": null,
            "align_self": null,
            "border": null,
            "bottom": null,
            "display": null,
            "flex": null,
            "flex_flow": null,
            "grid_area": null,
            "grid_auto_columns": null,
            "grid_auto_flow": null,
            "grid_auto_rows": null,
            "grid_column": null,
            "grid_gap": null,
            "grid_row": null,
            "grid_template_areas": null,
            "grid_template_columns": null,
            "grid_template_rows": null,
            "height": null,
            "justify_content": null,
            "justify_items": null,
            "left": null,
            "margin": null,
            "max_height": null,
            "max_width": null,
            "min_height": null,
            "min_width": null,
            "object_fit": null,
            "object_position": null,
            "order": null,
            "overflow": null,
            "overflow_x": null,
            "overflow_y": null,
            "padding": null,
            "right": null,
            "top": null,
            "visibility": null,
            "width": null
          }
        },
        "b3f79e55246b4d38b592d358d7ccdf4f": {
          "model_module": "@jupyter-widgets/controls",
          "model_name": "DescriptionStyleModel",
          "model_module_version": "1.5.0",
          "state": {
            "_model_module": "@jupyter-widgets/controls",
            "_model_module_version": "1.5.0",
            "_model_name": "DescriptionStyleModel",
            "_view_count": null,
            "_view_module": "@jupyter-widgets/base",
            "_view_module_version": "1.2.0",
            "_view_name": "StyleView",
            "description_width": ""
          }
        },
        "7b429a20c5764535adc7a8473f2a4849": {
          "model_module": "@jupyter-widgets/base",
          "model_name": "LayoutModel",
          "model_module_version": "1.2.0",
          "state": {
            "_model_module": "@jupyter-widgets/base",
            "_model_module_version": "1.2.0",
            "_model_name": "LayoutModel",
            "_view_count": null,
            "_view_module": "@jupyter-widgets/base",
            "_view_module_version": "1.2.0",
            "_view_name": "LayoutView",
            "align_content": null,
            "align_items": null,
            "align_self": null,
            "border": null,
            "bottom": null,
            "display": null,
            "flex": null,
            "flex_flow": null,
            "grid_area": null,
            "grid_auto_columns": null,
            "grid_auto_flow": null,
            "grid_auto_rows": null,
            "grid_column": null,
            "grid_gap": null,
            "grid_row": null,
            "grid_template_areas": null,
            "grid_template_columns": null,
            "grid_template_rows": null,
            "height": null,
            "justify_content": null,
            "justify_items": null,
            "left": null,
            "margin": null,
            "max_height": null,
            "max_width": null,
            "min_height": null,
            "min_width": null,
            "object_fit": null,
            "object_position": null,
            "order": null,
            "overflow": null,
            "overflow_x": null,
            "overflow_y": null,
            "padding": null,
            "right": null,
            "top": null,
            "visibility": null,
            "width": null
          }
        },
        "0ca0568b902247589c5154148dabb31c": {
          "model_module": "@jupyter-widgets/controls",
          "model_name": "ProgressStyleModel",
          "model_module_version": "1.5.0",
          "state": {
            "_model_module": "@jupyter-widgets/controls",
            "_model_module_version": "1.5.0",
            "_model_name": "ProgressStyleModel",
            "_view_count": null,
            "_view_module": "@jupyter-widgets/base",
            "_view_module_version": "1.2.0",
            "_view_name": "StyleView",
            "bar_color": null,
            "description_width": ""
          }
        },
        "0541d1b2cda04062aa0970dde0c9d4ae": {
          "model_module": "@jupyter-widgets/base",
          "model_name": "LayoutModel",
          "model_module_version": "1.2.0",
          "state": {
            "_model_module": "@jupyter-widgets/base",
            "_model_module_version": "1.2.0",
            "_model_name": "LayoutModel",
            "_view_count": null,
            "_view_module": "@jupyter-widgets/base",
            "_view_module_version": "1.2.0",
            "_view_name": "LayoutView",
            "align_content": null,
            "align_items": null,
            "align_self": null,
            "border": null,
            "bottom": null,
            "display": null,
            "flex": null,
            "flex_flow": null,
            "grid_area": null,
            "grid_auto_columns": null,
            "grid_auto_flow": null,
            "grid_auto_rows": null,
            "grid_column": null,
            "grid_gap": null,
            "grid_row": null,
            "grid_template_areas": null,
            "grid_template_columns": null,
            "grid_template_rows": null,
            "height": null,
            "justify_content": null,
            "justify_items": null,
            "left": null,
            "margin": null,
            "max_height": null,
            "max_width": null,
            "min_height": null,
            "min_width": null,
            "object_fit": null,
            "object_position": null,
            "order": null,
            "overflow": null,
            "overflow_x": null,
            "overflow_y": null,
            "padding": null,
            "right": null,
            "top": null,
            "visibility": null,
            "width": null
          }
        },
        "c33942baf03947c0b8abdc76ddd50148": {
          "model_module": "@jupyter-widgets/controls",
          "model_name": "DescriptionStyleModel",
          "model_module_version": "1.5.0",
          "state": {
            "_model_module": "@jupyter-widgets/controls",
            "_model_module_version": "1.5.0",
            "_model_name": "DescriptionStyleModel",
            "_view_count": null,
            "_view_module": "@jupyter-widgets/base",
            "_view_module_version": "1.2.0",
            "_view_name": "StyleView",
            "description_width": ""
          }
        }
      }
    }
  },
  "nbformat": 4,
  "nbformat_minor": 0
}