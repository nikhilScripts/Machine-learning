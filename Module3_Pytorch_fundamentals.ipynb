{
  "cells": [
    {
      "cell_type": "markdown",
      "metadata": {
        "id": "view-in-github",
        "colab_type": "text"
      },
      "source": [
        "<a href=\"https://colab.research.google.com/github/nikhilScripts/Machine-learning/blob/main/Module3_Pytorch_fundamentals.ipynb\" target=\"_parent\"><img src=\"https://colab.research.google.com/assets/colab-badge.svg\" alt=\"Open In Colab\"/></a>"
      ]
    },
    {
      "cell_type": "markdown",
      "metadata": {
        "id": "GNvQ1x7-5FFr"
      },
      "source": [
        "# Pytorch fundamentals\n"
      ]
    },
    {
      "cell_type": "code",
      "execution_count": null,
      "metadata": {
        "colab": {
          "base_uri": "https://localhost:8080/"
        },
        "id": "JrbvOG4V5umD",
        "outputId": "adce10ce-2e1d-4aef-bc88-6c7e58bc75ab"
      },
      "outputs": [
        {
          "name": "stdout",
          "output_type": "stream",
          "text": [
            "2.5.1+cu121\n"
          ]
        }
      ],
      "source": [
        "import torch\n",
        "import pandas as pd\n",
        "import numpy as np\n",
        "import matplotlib.pyplot as plt\n",
        "print(torch.__version__)"
      ]
    },
    {
      "cell_type": "code",
      "execution_count": null,
      "metadata": {
        "colab": {
          "base_uri": "https://localhost:8080/"
        },
        "id": "feXhiDbU6mDG",
        "outputId": "f552570d-26ea-4e1c-d6ac-1c497adb3f48"
      },
      "outputs": [
        {
          "data": {
            "text/plain": [
              "tensor(7)"
            ]
          },
          "execution_count": 2,
          "metadata": {},
          "output_type": "execute_result"
        }
      ],
      "source": [
        "scalar = torch.tensor(7)\n",
        "scalar"
      ]
    },
    {
      "cell_type": "code",
      "execution_count": null,
      "metadata": {
        "colab": {
          "base_uri": "https://localhost:8080/"
        },
        "id": "O_6yRQzW7S7o",
        "outputId": "9df2bdb2-d25a-4869-8990-addf9f08175e"
      },
      "outputs": [
        {
          "data": {
            "text/plain": [
              "0"
            ]
          },
          "execution_count": 3,
          "metadata": {},
          "output_type": "execute_result"
        }
      ],
      "source": [
        "#Cheaking the dimenstion\n",
        "scalar.ndim"
      ]
    },
    {
      "cell_type": "code",
      "execution_count": null,
      "metadata": {
        "colab": {
          "base_uri": "https://localhost:8080/"
        },
        "id": "x0gofOhr7X1c",
        "outputId": "fa9172f7-b373-4bb5-96b8-70d4ce0f4168"
      },
      "outputs": [
        {
          "data": {
            "text/plain": [
              "7"
            ]
          },
          "execution_count": 4,
          "metadata": {},
          "output_type": "execute_result"
        }
      ],
      "source": [
        "scalar.item() # get tensor back as python int"
      ]
    },
    {
      "cell_type": "code",
      "execution_count": null,
      "metadata": {
        "colab": {
          "base_uri": "https://localhost:8080/"
        },
        "id": "fWFrbSH38GoO",
        "outputId": "0ed6aa30-47af-4cec-90d2-1f50eb6ab13c"
      },
      "outputs": [
        {
          "data": {
            "text/plain": [
              "tensor([7, 7])"
            ]
          },
          "execution_count": 5,
          "metadata": {},
          "output_type": "execute_result"
        }
      ],
      "source": [
        "# vector\n",
        "vector = torch.tensor([7,7])\n",
        "vector"
      ]
    },
    {
      "cell_type": "code",
      "execution_count": null,
      "metadata": {
        "colab": {
          "base_uri": "https://localhost:8080/"
        },
        "id": "2h5lxFYh8O7t",
        "outputId": "c837200d-798f-42ee-d830-59be7e10ede0"
      },
      "outputs": [
        {
          "data": {
            "text/plain": [
              "1"
            ]
          },
          "execution_count": 6,
          "metadata": {},
          "output_type": "execute_result"
        }
      ],
      "source": [
        "vector.ndim"
      ]
    },
    {
      "cell_type": "code",
      "execution_count": null,
      "metadata": {
        "colab": {
          "base_uri": "https://localhost:8080/"
        },
        "id": "J1glX2QT8Sob",
        "outputId": "c27e198a-55af-4b63-9cea-4f32b87f29b9"
      },
      "outputs": [
        {
          "data": {
            "text/plain": [
              "torch.Tensor"
            ]
          },
          "execution_count": 7,
          "metadata": {},
          "output_type": "execute_result"
        }
      ],
      "source": [
        "type(vector)"
      ]
    },
    {
      "cell_type": "code",
      "execution_count": null,
      "metadata": {
        "colab": {
          "base_uri": "https://localhost:8080/"
        },
        "id": "cR7o6EG18Wty",
        "outputId": "e2c79d87-d0e3-41b2-c5d1-31e441837e4c"
      },
      "outputs": [
        {
          "data": {
            "text/plain": [
              "torch.Size([2])"
            ]
          },
          "execution_count": 8,
          "metadata": {},
          "output_type": "execute_result"
        }
      ],
      "source": [
        "vector.shape"
      ]
    },
    {
      "cell_type": "code",
      "execution_count": null,
      "metadata": {
        "colab": {
          "base_uri": "https://localhost:8080/"
        },
        "id": "HtSb-Uy_8bRL",
        "outputId": "cf7dbee1-17a0-4b11-db9f-5edbaf07781d"
      },
      "outputs": [
        {
          "data": {
            "text/plain": [
              "tensor([[ 7,  8,  4],\n",
              "        [ 9, 10,  5]])"
            ]
          },
          "execution_count": 9,
          "metadata": {},
          "output_type": "execute_result"
        }
      ],
      "source": [
        "Matrix = torch.tensor([[7,8,4], [9,10,5]])\n",
        "Matrix"
      ]
    },
    {
      "cell_type": "code",
      "execution_count": null,
      "metadata": {
        "colab": {
          "base_uri": "https://localhost:8080/"
        },
        "id": "99YF2Bil91NL",
        "outputId": "745b516c-e477-4874-e44f-1887d0a4f56f"
      },
      "outputs": [
        {
          "data": {
            "text/plain": [
              "2"
            ]
          },
          "execution_count": 10,
          "metadata": {},
          "output_type": "execute_result"
        }
      ],
      "source": [
        "Matrix.ndim"
      ]
    },
    {
      "cell_type": "code",
      "execution_count": null,
      "metadata": {
        "colab": {
          "base_uri": "https://localhost:8080/"
        },
        "id": "6Kumnw3j9-3U",
        "outputId": "5f836a2b-df03-4faa-c40e-7da619c3df79"
      },
      "outputs": [
        {
          "data": {
            "text/plain": [
              "torch.Size([2, 3])"
            ]
          },
          "execution_count": 11,
          "metadata": {},
          "output_type": "execute_result"
        }
      ],
      "source": [
        "Matrix.shape"
      ]
    },
    {
      "cell_type": "code",
      "execution_count": null,
      "metadata": {
        "colab": {
          "base_uri": "https://localhost:8080/"
        },
        "id": "aAjgNKLg-nEO",
        "outputId": "993e1c84-af09-45ec-cab1-b21b64d2cde1"
      },
      "outputs": [
        {
          "data": {
            "text/plain": [
              "torch.Tensor"
            ]
          },
          "execution_count": 12,
          "metadata": {},
          "output_type": "execute_result"
        }
      ],
      "source": [
        "type(Matrix)"
      ]
    },
    {
      "cell_type": "code",
      "execution_count": null,
      "metadata": {
        "colab": {
          "base_uri": "https://localhost:8080/"
        },
        "id": "ArnhwcGS-Axh",
        "outputId": "7e9665fd-c03e-47da-8a40-e12598dec5cd"
      },
      "outputs": [
        {
          "data": {
            "text/plain": [
              "tensor([[[1, 2, 3],\n",
              "         [4, 5, 6],\n",
              "         [7, 8, 9]]])"
            ]
          },
          "execution_count": 13,
          "metadata": {},
          "output_type": "execute_result"
        }
      ],
      "source": [
        "Tensor = torch.tensor([[[1,2,3], [4,5,6], [7,8,9]]])\n",
        "Tensor"
      ]
    },
    {
      "cell_type": "code",
      "execution_count": null,
      "metadata": {
        "colab": {
          "base_uri": "https://localhost:8080/"
        },
        "id": "JkTpe25b-zwR",
        "outputId": "5f8e0d87-b9a7-44f9-ac0c-df8c8f66d22d"
      },
      "outputs": [
        {
          "data": {
            "text/plain": [
              "torch.Tensor"
            ]
          },
          "execution_count": 14,
          "metadata": {},
          "output_type": "execute_result"
        }
      ],
      "source": [
        "type(Tensor)"
      ]
    },
    {
      "cell_type": "code",
      "execution_count": null,
      "metadata": {
        "colab": {
          "base_uri": "https://localhost:8080/"
        },
        "id": "vwbT7-6t_OUX",
        "outputId": "ba30051f-863b-4720-ab1c-72e8948daf52"
      },
      "outputs": [
        {
          "data": {
            "text/plain": [
              "3"
            ]
          },
          "execution_count": 15,
          "metadata": {},
          "output_type": "execute_result"
        }
      ],
      "source": [
        " Tensor.ndim #no. of squares equals no. of dimentions"
      ]
    },
    {
      "cell_type": "code",
      "execution_count": null,
      "metadata": {
        "colab": {
          "base_uri": "https://localhost:8080/"
        },
        "id": "L02grhFSAYs_",
        "outputId": "f7541e97-aed7-46cb-9130-387b4f74b588"
      },
      "outputs": [
        {
          "data": {
            "text/plain": [
              "torch.Size([1, 3, 3])"
            ]
          },
          "execution_count": 16,
          "metadata": {},
          "output_type": "execute_result"
        }
      ],
      "source": [
        "Tensor.shape"
      ]
    },
    {
      "cell_type": "code",
      "execution_count": null,
      "metadata": {
        "colab": {
          "base_uri": "https://localhost:8080/"
        },
        "id": "65mKCPyFCQjH",
        "outputId": "9dedb676-cdb3-4644-d8bb-3d099a7d0019"
      },
      "outputs": [
        {
          "data": {
            "text/plain": [
              "(tensor([[0.4823, 0.2087, 0.4324, 0.6368],\n",
              "         [0.1691, 0.5067, 0.0846, 0.2653],\n",
              "         [0.2053, 0.0037, 0.5518, 0.5004]]),\n",
              " torch.float32)"
            ]
          },
          "execution_count": 17,
          "metadata": {},
          "output_type": "execute_result"
        }
      ],
      "source": [
        "random_tensor = torch.rand(size = (3,4))\n",
        "random_tensor, random_tensor.dtype"
      ]
    },
    {
      "cell_type": "code",
      "execution_count": null,
      "metadata": {
        "colab": {
          "base_uri": "https://localhost:8080/"
        },
        "id": "A5Cl5HP7XDgG",
        "outputId": "3eaaa03d-c2c3-49a8-f4cf-1c16a73b946e"
      },
      "outputs": [
        {
          "data": {
            "text/plain": [
              "2"
            ]
          },
          "execution_count": 18,
          "metadata": {},
          "output_type": "execute_result"
        }
      ],
      "source": [
        "random_tensor.ndim"
      ]
    },
    {
      "cell_type": "code",
      "execution_count": null,
      "metadata": {
        "colab": {
          "base_uri": "https://localhost:8080/"
        },
        "id": "ohx7cX5RWWG6",
        "outputId": "a46d301a-2f5a-42c8-cd21-9d8ee2e183a5"
      },
      "outputs": [
        {
          "data": {
            "text/plain": [
              "tensor([[[0.8732, 0.9137, 0.6067],\n",
              "         [0.7064, 0.6213, 0.6294],\n",
              "         [0.4683, 0.6713, 0.1899],\n",
              "         ...,\n",
              "         [0.2570, 0.3781, 0.0791],\n",
              "         [0.6490, 0.4813, 0.3109],\n",
              "         [0.3668, 0.3596, 0.4975]],\n",
              "\n",
              "        [[0.4461, 0.9923, 0.2804],\n",
              "         [0.0425, 0.4952, 0.0933],\n",
              "         [0.1691, 0.4048, 0.3496],\n",
              "         ...,\n",
              "         [0.3970, 0.7164, 0.2981],\n",
              "         [0.2303, 0.4788, 0.1294],\n",
              "         [0.5114, 0.1325, 0.4544]],\n",
              "\n",
              "        [[0.3762, 0.5915, 0.4660],\n",
              "         [0.0020, 0.0436, 0.0707],\n",
              "         [0.5295, 0.9335, 0.3722],\n",
              "         ...,\n",
              "         [0.2376, 0.8404, 0.6798],\n",
              "         [0.6717, 0.1762, 0.9332],\n",
              "         [0.2186, 0.8659, 0.7492]],\n",
              "\n",
              "        ...,\n",
              "\n",
              "        [[0.9223, 0.3388, 0.8253],\n",
              "         [0.0747, 0.9074, 0.0778],\n",
              "         [0.0557, 0.9510, 0.0386],\n",
              "         ...,\n",
              "         [0.1759, 0.9872, 0.0154],\n",
              "         [0.7499, 0.6705, 0.4198],\n",
              "         [0.2430, 0.7644, 0.4589]],\n",
              "\n",
              "        [[0.3757, 0.7459, 0.9193],\n",
              "         [0.8633, 0.4650, 0.7140],\n",
              "         [0.7574, 0.9591, 0.2318],\n",
              "         ...,\n",
              "         [0.7006, 0.1976, 0.2873],\n",
              "         [0.9970, 0.5782, 0.0583],\n",
              "         [0.6276, 0.2641, 0.6449]],\n",
              "\n",
              "        [[0.1829, 0.5305, 0.2349],\n",
              "         [0.8283, 0.6045, 0.1350],\n",
              "         [0.9903, 0.1333, 0.1388],\n",
              "         ...,\n",
              "         [0.1872, 0.4161, 0.6378],\n",
              "         [0.3527, 0.3031, 0.0850],\n",
              "         [0.2938, 0.4470, 0.9550]]])"
            ]
          },
          "execution_count": 19,
          "metadata": {},
          "output_type": "execute_result"
        }
      ],
      "source": [
        "random_image_size_tensor = torch.rand(size = (224,224, 3))\n",
        "random_image_size_tensor"
      ]
    },
    {
      "cell_type": "code",
      "execution_count": null,
      "metadata": {
        "colab": {
          "base_uri": "https://localhost:8080/"
        },
        "id": "vMD-I1X-WbKY",
        "outputId": "93438732-260c-4af2-8aa7-37756481f4fb"
      },
      "outputs": [
        {
          "data": {
            "text/plain": [
              "(torch.Size([224, 224, 3]), 3)"
            ]
          },
          "execution_count": 20,
          "metadata": {},
          "output_type": "execute_result"
        }
      ],
      "source": [
        "random_image_size_tensor.shape, random_image_size_tensor.ndim"
      ]
    },
    {
      "cell_type": "code",
      "execution_count": null,
      "metadata": {
        "colab": {
          "base_uri": "https://localhost:8080/"
        },
        "id": "jupXIa75XdUK",
        "outputId": "642066a7-ce72-4e63-b635-1729f0073d5d"
      },
      "outputs": [
        {
          "data": {
            "text/plain": [
              "(tensor([[0., 0., 0., 0.],\n",
              "         [0., 0., 0., 0.],\n",
              "         [0., 0., 0., 0.]]),\n",
              " torch.float32)"
            ]
          },
          "execution_count": 21,
          "metadata": {},
          "output_type": "execute_result"
        }
      ],
      "source": [
        "zeros = torch.zeros(size = (3,4))\n",
        "zeros, zeros.dtype"
      ]
    },
    {
      "cell_type": "code",
      "execution_count": null,
      "metadata": {
        "colab": {
          "base_uri": "https://localhost:8080/"
        },
        "id": "nlr9d8kuX9C7",
        "outputId": "0ff787f5-a7e5-47b7-e1d8-c556bcf62822"
      },
      "outputs": [
        {
          "data": {
            "text/plain": [
              "(tensor([[1., 1., 1., 1.],\n",
              "         [1., 1., 1., 1.],\n",
              "         [1., 1., 1., 1.]]),\n",
              " torch.float32)"
            ]
          },
          "execution_count": 22,
          "metadata": {},
          "output_type": "execute_result"
        }
      ],
      "source": [
        "ones = torch.ones(size = (3,4))\n",
        "ones, ones.dtype"
      ]
    },
    {
      "cell_type": "code",
      "execution_count": null,
      "metadata": {
        "colab": {
          "base_uri": "https://localhost:8080/"
        },
        "id": "hufo3x05Ztyl",
        "outputId": "9c8ffc98-0102-42c8-f3f4-4981d6c8eb8f"
      },
      "outputs": [
        {
          "data": {
            "text/plain": [
              "tensor([0, 2, 4, 6, 8])"
            ]
          },
          "execution_count": 23,
          "metadata": {},
          "output_type": "execute_result"
        }
      ],
      "source": [
        "# Create a range of values 0 to 10\n",
        "zero_to_ten = torch.arange(0, 10, 2)  #zero_to_ten = torch.arange(start=0, end=10, step=2)\n",
        "zero_to_ten"
      ]
    },
    {
      "cell_type": "code",
      "execution_count": null,
      "metadata": {
        "colab": {
          "base_uri": "https://localhost:8080/"
        },
        "id": "9-zfV-BRdb-2",
        "outputId": "dbd5a054-ae99-40ec-b455-070c2622c5b4"
      },
      "outputs": [
        {
          "data": {
            "text/plain": [
              "tensor([0, 0, 0, 0, 0])"
            ]
          },
          "execution_count": 24,
          "metadata": {},
          "output_type": "execute_result"
        }
      ],
      "source": [
        "ten_zeros = torch.zeros_like(input=zero_to_ten)\n",
        "ten_zeros"
      ]
    },
    {
      "cell_type": "markdown",
      "metadata": {
        "id": "rRyUFqex8HXs"
      },
      "source": [
        "Tensor Datatypes"
      ]
    },
    {
      "cell_type": "code",
      "execution_count": null,
      "metadata": {
        "colab": {
          "base_uri": "https://localhost:8080/"
        },
        "id": "hdrXol3E_LHU",
        "outputId": "ffab8817-e693-4ec0-c5e3-843f02039043"
      },
      "outputs": [
        {
          "data": {
            "text/plain": [
              "tensor([3., 6., 9.])"
            ]
          },
          "execution_count": 25,
          "metadata": {},
          "output_type": "execute_result"
        }
      ],
      "source": [
        "float_32_tensor = torch.tensor([3.0, 6.0, 9.0],  dtype=None)\n",
        "# What datatype is the tensor (e.g. float32 or float16)\n",
        "float_32_tensor"
      ]
    },
    {
      "cell_type": "code",
      "execution_count": null,
      "metadata": {
        "colab": {
          "base_uri": "https://localhost:8080/"
        },
        "id": "2xn_-KmtBnGJ",
        "outputId": "940dad9f-19ae-4cf3-c9b2-66b301addf51"
      },
      "outputs": [
        {
          "data": {
            "text/plain": [
              "torch.float32"
            ]
          },
          "execution_count": 26,
          "metadata": {},
          "output_type": "execute_result"
        }
      ],
      "source": [
        "float_32_tensor.dtype"
      ]
    },
    {
      "cell_type": "code",
      "execution_count": null,
      "metadata": {
        "colab": {
          "base_uri": "https://localhost:8080/"
        },
        "id": "uZyR-SnuA453",
        "outputId": "80140ba0-3ba1-41d2-d55b-8bfed8261093"
      },
      "outputs": [
        {
          "name": "stderr",
          "output_type": "stream",
          "text": [
            "<ipython-input-27-d1bdd7e41dc7>:1: UserWarning: ComplexHalf support is experimental and many operators don't support it yet. (Triggered internally at ../aten/src/ATen/EmptyTensor.cpp:46.)\n",
            "  float_16_tensor = float_32_tensor.type(torch.complex32)\n"
          ]
        },
        {
          "data": {
            "text/plain": [
              "tensor([3.+0.j, 6.+0.j, 9.+0.j], dtype=torch.complex32)"
            ]
          },
          "execution_count": 27,
          "metadata": {},
          "output_type": "execute_result"
        }
      ],
      "source": [
        "  float_16_tensor = float_32_tensor.type(torch.complex32)\n",
        "  float_16_tensor"
      ]
    },
    {
      "cell_type": "code",
      "execution_count": null,
      "metadata": {
        "colab": {
          "base_uri": "https://localhost:8080/"
        },
        "id": "11zXa4RmCV0B",
        "outputId": "d0c57c76-ba76-4b4a-e435-8c3812d25c18"
      },
      "outputs": [
        {
          "data": {
            "text/plain": [
              "tensor([ 9.+0.j, 36.+0.j, 81.+0.j])"
            ]
          },
          "execution_count": 28,
          "metadata": {},
          "output_type": "execute_result"
        }
      ],
      "source": [
        "float_16_tensor*float_32_tensor"
      ]
    },
    {
      "cell_type": "code",
      "execution_count": null,
      "metadata": {
        "colab": {
          "base_uri": "https://localhost:8080/"
        },
        "id": "eSvelfuyDmJ-",
        "outputId": "4e65a696-a41e-4331-9be4-9f572299998c"
      },
      "outputs": [
        {
          "data": {
            "text/plain": [
              "tensor([3, 6, 9], dtype=torch.int32)"
            ]
          },
          "execution_count": 29,
          "metadata": {},
          "output_type": "execute_result"
        }
      ],
      "source": [
        "int_32_tensor = torch.tensor([3,6,9], dtype = torch.int32)\n",
        "int_32_tensor"
      ]
    },
    {
      "cell_type": "code",
      "execution_count": null,
      "metadata": {
        "colab": {
          "base_uri": "https://localhost:8080/"
        },
        "id": "7hKyCcQJEOPZ",
        "outputId": "e7ee0e8c-cc71-482d-c919-37a562aa62db"
      },
      "outputs": [
        {
          "data": {
            "text/plain": [
              "tensor([[0.3982, 0.0489, 0.8023, 0.8402],\n",
              "        [0.0677, 0.3182, 0.6578, 0.4783],\n",
              "        [0.0967, 0.0658, 0.7474, 0.3793]])"
            ]
          },
          "execution_count": 30,
          "metadata": {},
          "output_type": "execute_result"
        }
      ],
      "source": [
        "# getting information of tensor\n",
        "tensor = torch.rand(3,4)\n",
        "tensor"
      ]
    },
    {
      "cell_type": "code",
      "execution_count": null,
      "metadata": {
        "colab": {
          "base_uri": "https://localhost:8080/"
        },
        "id": "KrX-F5alFXnS",
        "outputId": "dd8d3fcf-f885-475c-a379-ed17405d3661"
      },
      "outputs": [
        {
          "name": "stdout",
          "output_type": "stream",
          "text": [
            "tensor([[0.3982, 0.0489, 0.8023, 0.8402],\n",
            "        [0.0677, 0.3182, 0.6578, 0.4783],\n",
            "        [0.0967, 0.0658, 0.7474, 0.3793]])\n"
          ]
        }
      ],
      "source": [
        "print(tensor)"
      ]
    },
    {
      "cell_type": "code",
      "execution_count": null,
      "metadata": {
        "colab": {
          "base_uri": "https://localhost:8080/"
        },
        "id": "-5ttWHW7Hd3t",
        "outputId": "22cfbeb3-046c-4bd5-d0c6-1289ddf7c111"
      },
      "outputs": [
        {
          "data": {
            "text/plain": [
              "torch.float32"
            ]
          },
          "execution_count": 32,
          "metadata": {},
          "output_type": "execute_result"
        }
      ],
      "source": [
        "tensor.dtype"
      ]
    },
    {
      "cell_type": "code",
      "execution_count": null,
      "metadata": {
        "colab": {
          "base_uri": "https://localhost:8080/"
        },
        "id": "tjHOinZfHjII",
        "outputId": "574107cb-1b38-4233-9c29-6d4331452e47"
      },
      "outputs": [
        {
          "data": {
            "text/plain": [
              "(torch.Size([3, 4]), device(type='cpu'))"
            ]
          },
          "execution_count": 33,
          "metadata": {},
          "output_type": "execute_result"
        }
      ],
      "source": [
        "tensor.shape, tensor.device"
      ]
    },
    {
      "cell_type": "markdown",
      "metadata": {
        "id": "vZKbBcwfHqJq"
      },
      "source": [
        "Basic Operations"
      ]
    },
    {
      "cell_type": "code",
      "execution_count": null,
      "metadata": {
        "colab": {
          "base_uri": "https://localhost:8080/"
        },
        "id": "3SEQ-9JDIEzL",
        "outputId": "825b9874-875e-47a0-fb13-2684c8075405"
      },
      "outputs": [
        {
          "data": {
            "text/plain": [
              "tensor([11, 12, 13])"
            ]
          },
          "execution_count": 34,
          "metadata": {},
          "output_type": "execute_result"
        }
      ],
      "source": [
        "tensor = torch.tensor([1,2,3])\n",
        "tensor + 10"
      ]
    },
    {
      "cell_type": "code",
      "execution_count": null,
      "metadata": {
        "colab": {
          "base_uri": "https://localhost:8080/"
        },
        "id": "1Bw56osRIUan",
        "outputId": "a1fa2f71-a48b-4da2-d2a3-a84ef207f3a9"
      },
      "outputs": [
        {
          "data": {
            "text/plain": [
              "(tensor([10, 20, 30]), tensor([0.5000, 1.0000, 1.5000]), tensor([3, 0, 1]))"
            ]
          },
          "execution_count": 35,
          "metadata": {},
          "output_type": "execute_result"
        }
      ],
      "source": [
        "tensor*10, tensor/2, tensor^2"
      ]
    },
    {
      "cell_type": "code",
      "execution_count": null,
      "metadata": {
        "colab": {
          "base_uri": "https://localhost:8080/"
        },
        "id": "o50Jc3cgIcvt",
        "outputId": "c7b73359-20b3-4ce3-98fa-eabfc9826949"
      },
      "outputs": [
        {
          "data": {
            "text/plain": [
              "tensor([10, 20, 30])"
            ]
          },
          "execution_count": 36,
          "metadata": {},
          "output_type": "execute_result"
        }
      ],
      "source": [
        "torch.multiply(tensor,10)"
      ]
    },
    {
      "cell_type": "code",
      "execution_count": null,
      "metadata": {
        "colab": {
          "base_uri": "https://localhost:8080/"
        },
        "id": "8e5-N7ogJTmI",
        "outputId": "ad2c3d72-ebf5-41e6-e62d-772ceb325636"
      },
      "outputs": [
        {
          "data": {
            "text/plain": [
              "tensor([1, 2, 3])"
            ]
          },
          "execution_count": 37,
          "metadata": {},
          "output_type": "execute_result"
        }
      ],
      "source": [
        "tensor # tensor don't change value unless it is assigned"
      ]
    },
    {
      "cell_type": "code",
      "execution_count": null,
      "metadata": {
        "colab": {
          "base_uri": "https://localhost:8080/"
        },
        "id": "yOWEafkIJVVr",
        "outputId": "1440d960-7a14-4398-a69e-64613d673b48"
      },
      "outputs": [
        {
          "data": {
            "text/plain": [
              "tensor([1, 4, 9])"
            ]
          },
          "execution_count": 38,
          "metadata": {},
          "output_type": "execute_result"
        }
      ],
      "source": [
        "tensor*tensor"
      ]
    },
    {
      "cell_type": "code",
      "execution_count": null,
      "metadata": {
        "colab": {
          "base_uri": "https://localhost:8080/"
        },
        "id": "7ig3m8xBJkVy",
        "outputId": "eafa71bf-9d53-4f86-974d-43aea01deb46"
      },
      "outputs": [
        {
          "data": {
            "text/plain": [
              "torch.Size([3])"
            ]
          },
          "execution_count": 39,
          "metadata": {},
          "output_type": "execute_result"
        }
      ],
      "source": [
        "tensor.shape"
      ]
    },
    {
      "cell_type": "code",
      "execution_count": null,
      "metadata": {
        "colab": {
          "base_uri": "https://localhost:8080/"
        },
        "id": "ECD7sF0ZKKt6",
        "outputId": "38ac604f-b26f-4609-c48b-05b17a1cb0c2"
      },
      "outputs": [
        {
          "name": "stdout",
          "output_type": "stream",
          "text": [
            "CPU times: user 382 µs, sys: 60 µs, total: 442 µs\n",
            "Wall time: 8.52 ms\n"
          ]
        },
        {
          "data": {
            "text/plain": [
              "(tensor(14),)"
            ]
          },
          "execution_count": 40,
          "metadata": {},
          "output_type": "execute_result"
        }
      ],
      "source": [
        "%%time\n",
        "torch.matmul(tensor,tensor), # 1*1 + 2*2 + 3*3,"
      ]
    },
    {
      "cell_type": "code",
      "execution_count": null,
      "metadata": {
        "colab": {
          "base_uri": "https://localhost:8080/"
        },
        "id": "6S2kKWXiKRnz",
        "outputId": "cb5af555-b881-44e9-bfa6-85dc498f395a"
      },
      "outputs": [
        {
          "name": "stdout",
          "output_type": "stream",
          "text": [
            "CPU times: user 377 µs, sys: 1.07 ms, total: 1.45 ms\n",
            "Wall time: 2.98 ms\n"
          ]
        },
        {
          "data": {
            "text/plain": [
              "tensor(14)"
            ]
          },
          "execution_count": 41,
          "metadata": {},
          "output_type": "execute_result"
        }
      ],
      "source": [
        "%%time\n",
        "value = 0\n",
        "for i in range(len(tensor)):\n",
        "  value += tensor[i] * tensor[i]\n",
        "value"
      ]
    },
    {
      "cell_type": "markdown",
      "metadata": {
        "id": "ilQdn0aiLSxy"
      },
      "source": [
        "Shapes and errors"
      ]
    },
    {
      "cell_type": "code",
      "execution_count": null,
      "metadata": {
        "id": "4AWGjcY3Lqsh"
      },
      "outputs": [],
      "source": [
        "tensor_A = torch.tensor([[1,2],[3,4],[5,6]], dtype = torch.float32)\n",
        "tensor_B = torch.tensor([[7,10],[8,11],[9,12]], dtype = torch.float32)\n"
      ]
    },
    {
      "cell_type": "code",
      "execution_count": null,
      "metadata": {
        "colab": {
          "base_uri": "https://localhost:8080/"
        },
        "id": "MMqh2iRTMvoi",
        "outputId": "f323563f-9f28-440c-9d2c-3fab98f96c4f"
      },
      "outputs": [
        {
          "data": {
            "text/plain": [
              "tensor([[ 7.,  8.,  9.],\n",
              "        [10., 11., 12.]])"
            ]
          },
          "execution_count": 43,
          "metadata": {},
          "output_type": "execute_result"
        }
      ],
      "source": [
        "# we need to transpose since both are of(3,2) and (3,2)\n",
        "tensor_B.T # this is (2,3) matrix"
      ]
    },
    {
      "cell_type": "code",
      "execution_count": null,
      "metadata": {
        "colab": {
          "base_uri": "https://localhost:8080/"
        },
        "id": "5lUbT2KkNWzj",
        "outputId": "ae1a62c2-e6e2-4ad8-9718-dcbb42112827"
      },
      "outputs": [
        {
          "data": {
            "text/plain": [
              "tensor([[ 27.,  30.,  33.],\n",
              "        [ 61.,  68.,  75.],\n",
              "        [ 95., 106., 117.]])"
            ]
          },
          "execution_count": 44,
          "metadata": {},
          "output_type": "execute_result"
        }
      ],
      "source": [
        "torch.matmul(tensor_A, tensor_B.T)"
      ]
    },
    {
      "cell_type": "code",
      "execution_count": null,
      "metadata": {
        "colab": {
          "base_uri": "https://localhost:8080/"
        },
        "id": "7JiAhc_RNmMk",
        "outputId": "c2de48e2-c1b0-4444-c2bf-fd1590474536"
      },
      "outputs": [
        {
          "data": {
            "text/plain": [
              "(torch.Size([3, 2]), torch.Size([2, 3]))"
            ]
          },
          "execution_count": 45,
          "metadata": {},
          "output_type": "execute_result"
        }
      ],
      "source": [
        "tensor_A.shape, tensor_B.T.shape"
      ]
    },
    {
      "cell_type": "code",
      "execution_count": null,
      "metadata": {
        "colab": {
          "base_uri": "https://localhost:8080/"
        },
        "id": "wWuLeUFdONRo",
        "outputId": "2e412b6d-bf47-401c-9dd5-10fe101d55bb"
      },
      "outputs": [
        {
          "data": {
            "text/plain": [
              "tensor([[ 27.,  30.,  33.],\n",
              "        [ 61.,  68.,  75.],\n",
              "        [ 95., 106., 117.]])"
            ]
          },
          "execution_count": 46,
          "metadata": {},
          "output_type": "execute_result"
        }
      ],
      "source": [
        "torch.mm(tensor_A, tensor_B.T)"
      ]
    },
    {
      "cell_type": "code",
      "execution_count": null,
      "metadata": {
        "colab": {
          "base_uri": "https://localhost:8080/"
        },
        "id": "ztoQoGngOcPv",
        "outputId": "b86c14b9-276c-4e3e-ba2a-3a32157e5b09"
      },
      "outputs": [
        {
          "name": "stdout",
          "output_type": "stream",
          "text": [
            "Input shape: torch.Size([3, 2])\n",
            "\n"
          ]
        },
        {
          "data": {
            "application/vnd.google.colaboratory.intrinsic+json": {
              "type": "string"
            },
            "text/plain": [
              "'Output:\\ntensor([[2.2368, 1.2292, 0.4714, 0.3864, 0.1309, 0.9838],\\n        [4.4919, 2.1970, 0.4469, 0.5285, 0.3401, 2.4777],\\n        [6.7469, 3.1648, 0.4224, 0.6705, 0.5493, 3.9716]],\\n       grad_fn=<AddmmBackward0>)\\n\\nOutput shape: torch.Size([3, 6])'"
            ]
          },
          "execution_count": 47,
          "metadata": {},
          "output_type": "execute_result"
        }
      ],
      "source": [
        "torch.manual_seed(42)\n",
        "# This uses matrix multiplication\n",
        "linear = torch.nn.Linear(in_features=2, # in_features = matches inner dimension of input\n",
        "                         out_features=6) # out_features = describes outer value\n",
        "x = tensor_A\n",
        "output = linear(x)\n",
        "print(f\"Input shape: {x.shape}\\n\")\n",
        "print\n",
        "(f\"Output:\\n{output}\\n\\nOutput shape: {output.shape}\")"
      ]
    },
    {
      "cell_type": "code",
      "execution_count": null,
      "metadata": {
        "colab": {
          "base_uri": "https://localhost:8080/"
        },
        "id": "fNxhh-IGORBg",
        "outputId": "9bccd089-152b-4848-9f1f-c4d78405ca0d"
      },
      "outputs": [
        {
          "data": {
            "text/plain": [
              "tensor([67,  6, 49, 76, 73, 11, 99, 13, 41, 69])"
            ]
          },
          "execution_count": 48,
          "metadata": {},
          "output_type": "execute_result"
        }
      ],
      "source": [
        "x = torch.randint(0,100,(10,))\n",
        "x"
      ]
    },
    {
      "cell_type": "code",
      "execution_count": null,
      "metadata": {
        "colab": {
          "base_uri": "https://localhost:8080/"
        },
        "id": "p6NcuHVpOtvb",
        "outputId": "36f2975c-cfa8-4975-a768-bb2f2c6c7121"
      },
      "outputs": [
        {
          "name": "stdout",
          "output_type": "stream",
          "text": [
            "min : tensor(6)\n",
            "Max: 6\n",
            "mean:  tensor(50.4000)\n",
            "sum  tensor(504)\n"
          ]
        }
      ],
      "source": [
        "print(\"min :\", x.min())\n",
        "print(f\"Max: {x.min()}\")\n",
        "print(\"mean: \",x.type(torch.float32).mean() )\n",
        "print(\"sum \", x.sum())"
      ]
    },
    {
      "cell_type": "code",
      "execution_count": null,
      "metadata": {
        "colab": {
          "base_uri": "https://localhost:8080/"
        },
        "id": "-dGzMO_MPnex",
        "outputId": "87b5cc7e-0124-4ead-8a9e-c16ae888a14d"
      },
      "outputs": [
        {
          "data": {
            "text/plain": [
              "(tensor(99), tensor(6), tensor(50.4000), tensor(504))"
            ]
          },
          "execution_count": 50,
          "metadata": {},
          "output_type": "execute_result"
        }
      ],
      "source": [
        "x.max(), torch.min(x), torch.mean(x.type(torch.float32)), torch.sum(x)"
      ]
    },
    {
      "cell_type": "code",
      "execution_count": null,
      "metadata": {
        "colab": {
          "base_uri": "https://localhost:8080/"
        },
        "id": "pIpY0yQ2R2ns",
        "outputId": "fab4d9a6-303f-465d-d0ca-4b4812781c3e"
      },
      "outputs": [
        {
          "data": {
            "text/plain": [
              "(tensor(6), tensor(1))"
            ]
          },
          "execution_count": 51,
          "metadata": {},
          "output_type": "execute_result"
        }
      ],
      "source": [
        "x.argmax(), x.argmin() #gives index"
      ]
    },
    {
      "cell_type": "code",
      "execution_count": null,
      "metadata": {
        "colab": {
          "base_uri": "https://localhost:8080/"
        },
        "id": "5O2WnbVRWaa-",
        "outputId": "a633b77e-fd56-4fe3-cd79-ec52c030e592"
      },
      "outputs": [
        {
          "data": {
            "text/plain": [
              "(tensor(6), tensor(99))"
            ]
          },
          "execution_count": 52,
          "metadata": {},
          "output_type": "execute_result"
        }
      ],
      "source": [
        "torch.argmax(x), torch.max(x) # different methods"
      ]
    },
    {
      "cell_type": "markdown",
      "metadata": {
        "id": "KdExSDRkWdZ9"
      },
      "source": [
        "Shapping a **tensor**"
      ]
    },
    {
      "cell_type": "code",
      "execution_count": null,
      "metadata": {
        "colab": {
          "base_uri": "https://localhost:8080/"
        },
        "id": "InpqPPXKXmh_",
        "outputId": "65580041-07fd-4c9d-d821-9fb063040667"
      },
      "outputs": [
        {
          "data": {
            "text/plain": [
              "(tensor([ 1,  2,  3,  4,  5,  6,  7,  8,  9, 10, 11, 12]), torch.Size([12]))"
            ]
          },
          "execution_count": 53,
          "metadata": {},
          "output_type": "execute_result"
        }
      ],
      "source": [
        "x = torch.arange(1,13)\n",
        "x, x.shape"
      ]
    },
    {
      "cell_type": "code",
      "execution_count": null,
      "metadata": {
        "colab": {
          "base_uri": "https://localhost:8080/"
        },
        "id": "Rp2lYu50X86z",
        "outputId": "4961fbc1-7c6c-4966-ede6-a528fa07c4e9"
      },
      "outputs": [
        {
          "data": {
            "text/plain": [
              "(tensor([[ 1,  2,  3,  4,  5,  6,  7,  8,  9, 10, 11, 12]]),\n",
              " torch.Size([1, 12]))"
            ]
          },
          "execution_count": 54,
          "metadata": {},
          "output_type": "execute_result"
        }
      ],
      "source": [
        "# adding dimension\n",
        "x_reshaped = x.reshape(1,12)\n",
        "x_reshaped, x_reshaped.shape"
      ]
    },
    {
      "cell_type": "code",
      "execution_count": null,
      "metadata": {
        "colab": {
          "base_uri": "https://localhost:8080/"
        },
        "id": "WOj9-82lY4dv",
        "outputId": "abd5bbed-e2ee-44bf-a1c2-6192ae450815"
      },
      "outputs": [
        {
          "data": {
            "text/plain": [
              "(tensor([[ 1,  2,  3,  4,  5,  6,  7,  8,  9, 10, 11, 12]]),\n",
              " torch.Size([1, 12]))"
            ]
          },
          "execution_count": 55,
          "metadata": {},
          "output_type": "execute_result"
        }
      ],
      "source": [
        "# change view\n",
        "z = x.view(1,12)\n",
        "z, z.shape"
      ]
    },
    {
      "cell_type": "code",
      "execution_count": null,
      "metadata": {
        "colab": {
          "base_uri": "https://localhost:8080/"
        },
        "id": "HjZt3lsCZk_x",
        "outputId": "80282819-fb77-405a-cdab-fecbfabb135c"
      },
      "outputs": [
        {
          "data": {
            "text/plain": [
              "(tensor([[ 5,  2,  3,  4,  5,  6,  7,  8,  9, 10, 11, 12]]),\n",
              " tensor([ 5,  2,  3,  4,  5,  6,  7,  8,  9, 10, 11, 12]))"
            ]
          },
          "execution_count": 56,
          "metadata": {},
          "output_type": "execute_result"
        }
      ],
      "source": [
        "z[:, 0] = 5\n",
        "z,x  # so view changes the real tensor"
      ]
    },
    {
      "cell_type": "code",
      "execution_count": null,
      "metadata": {
        "colab": {
          "base_uri": "https://localhost:8080/"
        },
        "id": "-YIxXIsYa8HX",
        "outputId": "a8c3ba3a-0f4d-4e35-9df9-633ecf026cd7"
      },
      "outputs": [
        {
          "data": {
            "text/plain": [
              "tensor([[ 5,  2,  3,  4,  5,  6,  7,  8,  9, 10, 11, 12],\n",
              "        [ 5,  2,  3,  4,  5,  6,  7,  8,  9, 10, 11, 12],\n",
              "        [ 5,  2,  3,  4,  5,  6,  7,  8,  9, 10, 11, 12],\n",
              "        [ 5,  2,  3,  4,  5,  6,  7,  8,  9, 10, 11, 12]])"
            ]
          },
          "execution_count": 57,
          "metadata": {},
          "output_type": "execute_result"
        }
      ],
      "source": [
        "x_stacked = torch.stack([x,x,x,x], dim = 0)\n",
        "x_stacked"
      ]
    },
    {
      "cell_type": "code",
      "execution_count": null,
      "metadata": {
        "colab": {
          "base_uri": "https://localhost:8080/"
        },
        "id": "6Sc_M26GbkQ9",
        "outputId": "2ed0a1c6-21aa-4fcc-bbfa-ba1a5c62ed52"
      },
      "outputs": [
        {
          "data": {
            "text/plain": [
              "tensor([[ 5,  2,  3,  4,  5,  6,  7,  8,  9, 10, 11, 12],\n",
              "        [ 5,  2,  3,  4,  5,  6,  7,  8,  9, 10, 11, 12]])"
            ]
          },
          "execution_count": 58,
          "metadata": {},
          "output_type": "execute_result"
        }
      ],
      "source": [
        "v_stacked = torch.vstack((x,x))\n",
        "v_stacked"
      ]
    },
    {
      "cell_type": "code",
      "execution_count": null,
      "metadata": {
        "colab": {
          "base_uri": "https://localhost:8080/"
        },
        "id": "cS6pkwG0fgda",
        "outputId": "279756e8-e8e2-423b-b85b-135efa5d7d94"
      },
      "outputs": [
        {
          "data": {
            "text/plain": [
              "tensor([ 5,  2,  3,  4,  5,  6,  7,  8,  9, 10, 11, 12,  5,  2,  3,  4,  5,  6,\n",
              "         7,  8,  9, 10, 11, 12,  5,  2,  3,  4,  5,  6,  7,  8,  9, 10, 11, 12,\n",
              "         5,  2,  3,  4,  5,  6,  7,  8,  9, 10, 11, 12])"
            ]
          },
          "execution_count": 59,
          "metadata": {},
          "output_type": "execute_result"
        }
      ],
      "source": [
        "h_stacked = torch.hstack([x,x,x,x])\n",
        "h_stacked"
      ]
    },
    {
      "cell_type": "code",
      "execution_count": null,
      "metadata": {
        "colab": {
          "base_uri": "https://localhost:8080/"
        },
        "id": "tARwKNSHfHhh",
        "outputId": "d8d76a53-5693-4c34-cfbe-256197e37474"
      },
      "outputs": [
        {
          "data": {
            "text/plain": [
              "tensor([ 5,  2,  3,  4,  5,  6,  7,  8,  9, 10, 11, 12,  5,  2,  3,  4,  5,  6,\n",
              "         7,  8,  9, 10, 11, 12,  5,  2,  3,  4,  5,  6,  7,  8,  9, 10, 11, 12,\n",
              "         5,  2,  3,  4,  5,  6,  7,  8,  9, 10, 11, 12])"
            ]
          },
          "execution_count": 60,
          "metadata": {},
          "output_type": "execute_result"
        }
      ],
      "source": [
        "concat_stack = torch.cat([x,x,x,x])\n",
        "concat_stack"
      ]
    },
    {
      "cell_type": "code",
      "execution_count": null,
      "metadata": {
        "colab": {
          "base_uri": "https://localhost:8080/"
        },
        "id": "CY9QUzdgfa7q",
        "outputId": "91c5b534-ea76-43d3-a426-7057b8be69c7"
      },
      "outputs": [
        {
          "data": {
            "text/plain": [
              "(tensor([[ 5,  2,  3,  4,  5,  6,  7,  8,  9, 10, 11, 12]]),\n",
              " torch.Size([1, 12]))"
            ]
          },
          "execution_count": 61,
          "metadata": {},
          "output_type": "execute_result"
        }
      ],
      "source": [
        "# squeeze\n",
        "x_reshaped, x_reshaped.shape"
      ]
    },
    {
      "cell_type": "code",
      "execution_count": null,
      "metadata": {
        "colab": {
          "base_uri": "https://localhost:8080/"
        },
        "id": "HC-KM4bagIR4",
        "outputId": "12462609-fbd8-451b-a62a-559933eb8476"
      },
      "outputs": [
        {
          "data": {
            "text/plain": [
              "(tensor([ 5,  2,  3,  4,  5,  6,  7,  8,  9, 10, 11, 12]), torch.Size([12]))"
            ]
          },
          "execution_count": 62,
          "metadata": {},
          "output_type": "execute_result"
        }
      ],
      "source": [
        "x_reshaped.squeeze(), x_reshaped.squeeze().shape"
      ]
    },
    {
      "cell_type": "code",
      "execution_count": null,
      "metadata": {
        "colab": {
          "base_uri": "https://localhost:8080/"
        },
        "id": "KygJcXocgluM",
        "outputId": "e1ffd8b3-ef60-489f-fb84-b601a26119da"
      },
      "outputs": [
        {
          "name": "stdout",
          "output_type": "stream",
          "text": [
            "Previous tensor: tensor([[ 5,  2,  3,  4,  5,  6,  7,  8,  9, 10, 11, 12]])\n",
            "Previous shape: torch.Size([1, 12])\n",
            "\n",
            "New tensor: tensor([ 5,  2,  3,  4,  5,  6,  7,  8,  9, 10, 11, 12])\n",
            "New shape: torch.Size([12])\n"
          ]
        }
      ],
      "source": [
        "print(f\"Previous tensor: {x_reshaped}\")\n",
        "print(f\"Previous shape: {x_reshaped.shape}\")\n",
        "\n",
        "# Remove extra dimension from x_reshaped\n",
        "x_squeezed = x_reshaped.squeeze()\n",
        "print(f\"\\nNew tensor: {x_squeezed}\")\n",
        "print(f\"New shape: {x_squeezed.shape}\")"
      ]
    },
    {
      "cell_type": "code",
      "execution_count": null,
      "metadata": {
        "colab": {
          "base_uri": "https://localhost:8080/"
        },
        "id": "gOCUPFukhZMi",
        "outputId": "f6aad82c-df5b-4cda-9ab1-2120bf677cf3"
      },
      "outputs": [
        {
          "name": "stdout",
          "output_type": "stream",
          "text": [
            "Previous tensor: tensor([ 5,  2,  3,  4,  5,  6,  7,  8,  9, 10, 11, 12])\n",
            "Previous shape: torch.Size([12])\n",
            "\n",
            "New tensor: tensor([[ 5,  2,  3,  4,  5,  6,  7,  8,  9, 10, 11, 12]])\n",
            "New shape: torch.Size([1, 12])\n"
          ]
        }
      ],
      "source": [
        "print(f\"Previous tensor: {x_squeezed}\")\n",
        "print(f\"Previous shape: {x_squeezed.shape}\")\n",
        "\n",
        "## Add an extra dimension with unsqueeze\n",
        "x_unsqueezed = x_squeezed.unsqueeze(dim=0)\n",
        "print(f\"\\nNew tensor: {x_unsqueezed}\")\n",
        "print(f\"New shape: {x_unsqueezed.shape}\")"
      ]
    },
    {
      "cell_type": "code",
      "execution_count": null,
      "metadata": {
        "colab": {
          "base_uri": "https://localhost:8080/"
        },
        "id": "7kkdX03EjmHf",
        "outputId": "869db1ee-75bc-45fc-ab45-720ead4efb1a"
      },
      "outputs": [
        {
          "name": "stdout",
          "output_type": "stream",
          "text": [
            "Previous shape: torch.Size([224, 224, 3])\n",
            "New shape: torch.Size([3, 224, 224])\n"
          ]
        }
      ],
      "source": [
        "# Create tensor with specific shape\n",
        "x_original = torch.rand(size=(224, 224, 3))\n",
        "\n",
        "# Permute the original tensor to rearrange the axis order\n",
        "x_permuted = x_original.permute(2,0,1) # shifts axis 0->1, 1->2, 2->0\n",
        "\n",
        "print(f\"Previous shape: {x_original.shape}\")\n",
        "print(f\"New shape: {x_permuted.shape}\")"
      ]
    },
    {
      "cell_type": "markdown",
      "metadata": {
        "id": "Un-1-mJ2lQtX"
      },
      "source": [
        "### Index(selecting data from tensors)"
      ]
    },
    {
      "cell_type": "code",
      "execution_count": null,
      "metadata": {
        "colab": {
          "base_uri": "https://localhost:8080/"
        },
        "id": "FKIjENWLmRFA",
        "outputId": "5faf426d-4d4c-4c88-98c2-fbab18352043"
      },
      "outputs": [
        {
          "data": {
            "text/plain": [
              "(tensor([[[1, 2, 3],\n",
              "          [4, 5, 6],\n",
              "          [7, 8, 9]]]),\n",
              " torch.Size([1, 3, 3]))"
            ]
          },
          "execution_count": 66,
          "metadata": {},
          "output_type": "execute_result"
        }
      ],
      "source": [
        "# Create a tensor\n",
        "import torch\n",
        "x = torch.arange(1, 10).reshape(1, 3, 3)\n",
        "x, x.shape"
      ]
    },
    {
      "cell_type": "code",
      "execution_count": null,
      "metadata": {
        "colab": {
          "base_uri": "https://localhost:8080/"
        },
        "id": "zU7Dwl1gmb6Q",
        "outputId": "e28b048c-524a-4dae-e024-ce275550fda2"
      },
      "outputs": [
        {
          "name": "stdout",
          "output_type": "stream",
          "text": [
            "First square bracket:  tensor([[1, 2, 3],\n",
            "        [4, 5, 6],\n",
            "        [7, 8, 9]])\n",
            "Second square bracket: tensor([4, 5, 6])\n",
            "Third square bracket: 6\n"
          ]
        }
      ],
      "source": [
        "# Let's index bracket by bracket\n",
        "print(f\"First square bracket:  {x[0]}\")\n",
        "print(f\"Second square bracket: {x[0][1]}\")\n",
        "print(f\"Third square bracket: {x[0][1][2]}\")"
      ]
    },
    {
      "cell_type": "code",
      "execution_count": null,
      "metadata": {
        "id": "eiKJPCV8ob8C"
      },
      "outputs": [],
      "source": [
        "# using commas for dimension"
      ]
    },
    {
      "cell_type": "code",
      "execution_count": null,
      "metadata": {
        "colab": {
          "base_uri": "https://localhost:8080/"
        },
        "id": "IBYAC78dogbZ",
        "outputId": "e6e02aac-5966-4d6b-b697-92603b449b61"
      },
      "outputs": [
        {
          "data": {
            "text/plain": [
              "tensor([[[1, 2, 3],\n",
              "         [4, 5, 6],\n",
              "         [7, 8, 9]]])"
            ]
          },
          "execution_count": 69,
          "metadata": {},
          "output_type": "execute_result"
        }
      ],
      "source": [
        "x"
      ]
    },
    {
      "cell_type": "code",
      "execution_count": null,
      "metadata": {
        "colab": {
          "base_uri": "https://localhost:8080/"
        },
        "id": "goMwOXl7nFnh",
        "outputId": "71dee692-c65e-4f99-f8a7-3ef6b619cca5"
      },
      "outputs": [
        {
          "data": {
            "text/plain": [
              "tensor([[1, 2, 3]])"
            ]
          },
          "execution_count": 70,
          "metadata": {},
          "output_type": "execute_result"
        }
      ],
      "source": [
        "x[:,0]"
      ]
    },
    {
      "cell_type": "code",
      "execution_count": null,
      "metadata": {
        "colab": {
          "base_uri": "https://localhost:8080/"
        },
        "id": "v6ToK_Wrnrxb",
        "outputId": "ef87fea1-eb45-4094-f320-f4d0d8410c79"
      },
      "outputs": [
        {
          "data": {
            "text/plain": [
              "tensor([[2, 5, 8]])"
            ]
          },
          "execution_count": 71,
          "metadata": {},
          "output_type": "execute_result"
        }
      ],
      "source": [
        "x[:,:,1]"
      ]
    },
    {
      "cell_type": "code",
      "execution_count": null,
      "metadata": {
        "colab": {
          "base_uri": "https://localhost:8080/"
        },
        "id": "pzJV9XXkLdZm",
        "outputId": "c5056e60-b4cc-4648-ad5d-6c9ca159102b"
      },
      "outputs": [
        {
          "data": {
            "text/plain": [
              "tensor([5])"
            ]
          },
          "execution_count": 72,
          "metadata": {},
          "output_type": "execute_result"
        }
      ],
      "source": [
        "x[:,1,1]"
      ]
    },
    {
      "cell_type": "code",
      "execution_count": null,
      "metadata": {
        "colab": {
          "base_uri": "https://localhost:8080/"
        },
        "id": "viBBkTLuLp7D",
        "outputId": "a701f2f9-7d55-4375-aa6f-3530ea738dd2"
      },
      "outputs": [
        {
          "data": {
            "text/plain": [
              "tensor(6)"
            ]
          },
          "execution_count": 73,
          "metadata": {},
          "output_type": "execute_result"
        }
      ],
      "source": [
        "x[0][1][2]"
      ]
    },
    {
      "cell_type": "code",
      "execution_count": null,
      "metadata": {
        "colab": {
          "base_uri": "https://localhost:8080/"
        },
        "id": "PaZoAi14NKy7",
        "outputId": "0c450da4-eefd-4b10-e48f-31312325ed4a"
      },
      "outputs": [
        {
          "data": {
            "text/plain": [
              "tensor([1, 2, 3])"
            ]
          },
          "execution_count": 74,
          "metadata": {},
          "output_type": "execute_result"
        }
      ],
      "source": [
        "x[0,0,:]"
      ]
    },
    {
      "cell_type": "code",
      "execution_count": null,
      "metadata": {
        "colab": {
          "base_uri": "https://localhost:8080/"
        },
        "id": "JK5t-jF7NxxF",
        "outputId": "49ebc4f0-d364-4545-ae24-0f9fc7d43ebe"
      },
      "outputs": [
        {
          "data": {
            "text/plain": [
              "tensor([7, 8, 9])"
            ]
          },
          "execution_count": 75,
          "metadata": {},
          "output_type": "execute_result"
        }
      ],
      "source": [
        "x[0][2]"
      ]
    },
    {
      "cell_type": "code",
      "execution_count": null,
      "metadata": {
        "id": "5VESYAVaOTgE"
      },
      "outputs": [],
      "source": []
    },
    {
      "cell_type": "markdown",
      "metadata": {
        "id": "8bLLzwVRP02S"
      },
      "source": [
        "### Pytorch and Numpy"
      ]
    },
    {
      "cell_type": "code",
      "execution_count": null,
      "metadata": {
        "colab": {
          "base_uri": "https://localhost:8080/"
        },
        "id": "TcSks8CiP6nE",
        "outputId": "ea0095de-2b40-4665-ab4a-9ee11ebcde9f"
      },
      "outputs": [
        {
          "data": {
            "text/plain": [
              "(array([1, 2, 3, 4, 5, 6, 7]), tensor([1, 2, 3, 4, 5, 6, 7]))"
            ]
          },
          "execution_count": 76,
          "metadata": {},
          "output_type": "execute_result"
        }
      ],
      "source": [
        "# Numpy to tensor\n",
        "import torch\n",
        "import numpy as np\n",
        "array = np.arange(1,8)\n",
        "tensor = torch.from_numpy(array)\n",
        "array, tensor"
      ]
    },
    {
      "cell_type": "code",
      "execution_count": null,
      "metadata": {
        "colab": {
          "base_uri": "https://localhost:8080/"
        },
        "id": "1Ok9FXOrTAyM",
        "outputId": "b4e2ef3f-88d3-414f-8f17-0a35ada00225"
      },
      "outputs": [
        {
          "data": {
            "text/plain": [
              "numpy.ndarray"
            ]
          },
          "execution_count": 77,
          "metadata": {},
          "output_type": "execute_result"
        }
      ],
      "source": [
        "type(array)"
      ]
    },
    {
      "cell_type": "code",
      "execution_count": null,
      "metadata": {
        "colab": {
          "base_uri": "https://localhost:8080/"
        },
        "id": "0VSQlydKRjeo",
        "outputId": "bcbc98cb-24cf-44f5-c95e-9f68f0e1c1be"
      },
      "outputs": [
        {
          "data": {
            "text/plain": [
              "(array([2, 3, 4, 5, 6, 7, 8]), tensor([1, 2, 3, 4, 5, 6, 7]))"
            ]
          },
          "execution_count": 78,
          "metadata": {},
          "output_type": "execute_result"
        }
      ],
      "source": [
        "array = array+1 # changing the numpy array to tensor does  not changes the real value\n",
        "array, tensor"
      ]
    },
    {
      "cell_type": "code",
      "execution_count": null,
      "metadata": {
        "colab": {
          "base_uri": "https://localhost:8080/"
        },
        "id": "fcJ4QvqLSeN9",
        "outputId": "cdde65d5-0cab-41e6-bc23-bb53d839715c"
      },
      "outputs": [
        {
          "data": {
            "text/plain": [
              "(tensor([1., 1., 1., 1., 1., 1., 1.]),\n",
              " array([1., 1., 1., 1., 1., 1., 1.], dtype=float32))"
            ]
          },
          "execution_count": 79,
          "metadata": {},
          "output_type": "execute_result"
        }
      ],
      "source": [
        "# tensor to Numpy array\n",
        "tensor = torch.ones(7)\n",
        "numpy_tensor = tensor.numpy()\n",
        "tensor, numpy_tensor"
      ]
    },
    {
      "cell_type": "code",
      "execution_count": null,
      "metadata": {
        "colab": {
          "base_uri": "https://localhost:8080/"
        },
        "id": "z-aJzqrFTqVp",
        "outputId": "3875863d-1aca-475f-a597-60dfad59f856"
      },
      "outputs": [
        {
          "data": {
            "text/plain": [
              "(tensor([2., 2., 2., 2., 2., 2., 2.]),\n",
              " array([1., 1., 1., 1., 1., 1., 1.], dtype=float32))"
            ]
          },
          "execution_count": 80,
          "metadata": {},
          "output_type": "execute_result"
        }
      ],
      "source": [
        "tensor = tensor + 1\n",
        "tensor, numpy_tensor"
      ]
    },
    {
      "cell_type": "markdown",
      "metadata": {
        "id": "tTye1PtqUsi-"
      },
      "source": [
        "**Reproducibility**"
      ]
    },
    {
      "cell_type": "code",
      "execution_count": null,
      "metadata": {
        "colab": {
          "base_uri": "https://localhost:8080/"
        },
        "id": "tECGVKrnV3UH",
        "outputId": "75743462-ab01-4ee6-e0ff-9a144148941c"
      },
      "outputs": [
        {
          "name": "stdout",
          "output_type": "stream",
          "text": [
            "Tensor A:\n",
            "tensor([[0.0919, 0.3102, 0.9536, 0.6002],\n",
            "        [0.0351, 0.6826, 0.3743, 0.5220],\n",
            "        [0.1336, 0.9666, 0.9754, 0.8474]])\n",
            "\n",
            "Tensor B:\n",
            "tensor([[0.8988, 0.1105, 0.4563, 0.9719],\n",
            "        [0.3968, 0.1496, 0.4743, 0.9973],\n",
            "        [0.4436, 0.9726, 0.5194, 0.5337]])\n",
            "\n",
            "Does Tensor A equal Tensor B? (anywhere)\n"
          ]
        },
        {
          "data": {
            "text/plain": [
              "tensor([[False, False, False, False],\n",
              "        [False, False, False, False],\n",
              "        [False, False, False, False]])"
            ]
          },
          "execution_count": 81,
          "metadata": {},
          "output_type": "execute_result"
        }
      ],
      "source": [
        "import torch\n",
        "\n",
        "# Create two random tensors\n",
        "random_tensor_A = torch.rand(3, 4)\n",
        "random_tensor_B = torch.rand(3, 4)\n",
        "\n",
        "print(f\"Tensor A:\\n{random_tensor_A}\\n\")\n",
        "print(f\"Tensor B:\\n{random_tensor_B}\\n\")\n",
        "print(f\"Does Tensor A equal Tensor B? (anywhere)\")\n",
        "random_tensor_A == random_tensor_B"
      ]
    },
    {
      "cell_type": "code",
      "execution_count": null,
      "metadata": {
        "colab": {
          "base_uri": "https://localhost:8080/"
        },
        "id": "I5JeuEj2WWx8",
        "outputId": "3beebd17-a9e5-4511-ab88-71b7d8c28845"
      },
      "outputs": [
        {
          "name": "stdout",
          "output_type": "stream",
          "text": [
            "Tensor C:\n",
            "tensor([[0.4963, 0.7682, 0.0885, 0.1320],\n",
            "        [0.3074, 0.6341, 0.4901, 0.8964],\n",
            "        [0.4556, 0.6323, 0.3489, 0.4017]])\n",
            "\n",
            "Tensor D:\n",
            "tensor([[0.4963, 0.7682, 0.0885, 0.1320],\n",
            "        [0.3074, 0.6341, 0.4901, 0.8964],\n",
            "        [0.4556, 0.6323, 0.3489, 0.4017]])\n",
            "\n",
            "Does Tensor C equal Tensor D? (anywhere)\n"
          ]
        },
        {
          "data": {
            "text/plain": [
              "tensor([[True, True, True, True],\n",
              "        [True, True, True, True],\n",
              "        [True, True, True, True]])"
            ]
          },
          "execution_count": 82,
          "metadata": {},
          "output_type": "execute_result"
        }
      ],
      "source": [
        "import torch\n",
        "import random\n",
        "\n",
        "# # Set the random seed\n",
        "RANDOM_SEED = 0 # try changing this to different values and see what happens to the numbers below\n",
        "torch.manual_seed(seed=RANDOM_SEED)\n",
        "random_tensor_C = torch.rand(3, 4)\n",
        "\n",
        "# Have to reset the seed every time a new rand() is called\n",
        "# Without this, tensor_D would be different to tensor_C\n",
        "torch.manual_seed(seed=RANDOM_SEED) # try commenting this line out and seeing what happens\n",
        "random_tensor_D = torch.rand(3, 4)\n",
        "\n",
        "print(f\"Tensor C:\\n{random_tensor_C}\\n\")\n",
        "print(f\"Tensor D:\\n{random_tensor_D}\\n\")\n",
        "print(f\"Does Tensor C equal Tensor D? (anywhere)\")\n",
        "random_tensor_C == random_tensor_D"
      ]
    },
    {
      "cell_type": "code",
      "execution_count": null,
      "metadata": {
        "id": "mQAQo3v2dXHx"
      },
      "outputs": [],
      "source": [
        "def set_seed(seed=42):  # You can change the seed value if needed\n",
        "     \"\"\"Sets random seeds for Python, NumPy, and PyTorch.\"\"\"\n",
        "     random.seed(seed)\n",
        "     os.environ['PYTHONHASHSEED'] = str(seed)\n",
        "     np.random.seed(seed)\n",
        "     torch.manual_seed(seed)\n",
        "     torch.cuda.manual_seed(seed)\n",
        "     torch.cuda.manual_seed_all(seed)  # if you are using multi-GPU.\n",
        "     torch.backends.cudnn.deterministic = True\n",
        "     torch.backends.cudnn.benchmark = False\n"
      ]
    },
    {
      "cell_type": "markdown",
      "metadata": {
        "id": "vY0Zov2ZaJIe"
      },
      "source": [
        "**GPU**"
      ]
    },
    {
      "cell_type": "code",
      "execution_count": null,
      "metadata": {
        "colab": {
          "base_uri": "https://localhost:8080/"
        },
        "id": "SwkEt2rjW_gU",
        "outputId": "449eaac1-38b3-4646-d6cb-2602da0019f1"
      },
      "outputs": [
        {
          "name": "stdout",
          "output_type": "stream",
          "text": [
            "Fri Dec 20 13:43:12 2024       \n",
            "+---------------------------------------------------------------------------------------+\n",
            "| NVIDIA-SMI 535.104.05             Driver Version: 535.104.05   CUDA Version: 12.2     |\n",
            "|-----------------------------------------+----------------------+----------------------+\n",
            "| GPU  Name                 Persistence-M | Bus-Id        Disp.A | Volatile Uncorr. ECC |\n",
            "| Fan  Temp   Perf          Pwr:Usage/Cap |         Memory-Usage | GPU-Util  Compute M. |\n",
            "|                                         |                      |               MIG M. |\n",
            "|=========================================+======================+======================|\n",
            "|   0  Tesla T4                       Off | 00000000:00:04.0 Off |                    0 |\n",
            "| N/A   46C    P8               9W /  70W |      0MiB / 15360MiB |      0%      Default |\n",
            "|                                         |                      |                  N/A |\n",
            "+-----------------------------------------+----------------------+----------------------+\n",
            "                                                                                         \n",
            "+---------------------------------------------------------------------------------------+\n",
            "| Processes:                                                                            |\n",
            "|  GPU   GI   CI        PID   Type   Process name                            GPU Memory |\n",
            "|        ID   ID                                                             Usage      |\n",
            "|=======================================================================================|\n",
            "|  No running processes found                                                           |\n",
            "+---------------------------------------------------------------------------------------+\n"
          ]
        }
      ],
      "source": [
        "!nvidia-smi"
      ]
    },
    {
      "cell_type": "code",
      "execution_count": null,
      "metadata": {
        "colab": {
          "base_uri": "https://localhost:8080/"
        },
        "id": "9XrPMhAjZ5QJ",
        "outputId": "0cfcd57d-85ba-4488-cb8d-53a9541aff85"
      },
      "outputs": [
        {
          "data": {
            "text/plain": [
              "True"
            ]
          },
          "execution_count": 85,
          "metadata": {},
          "output_type": "execute_result"
        }
      ],
      "source": [
        "# Check for GPU\n",
        "import torch\n",
        "torch.cuda.is_available()"
      ]
    },
    {
      "cell_type": "code",
      "execution_count": null,
      "metadata": {
        "colab": {
          "base_uri": "https://localhost:8080/"
        },
        "id": "HbrFVAmvaQOO",
        "outputId": "5606f3cb-cc94-498a-c5af-788088b55b6c"
      },
      "outputs": [
        {
          "data": {
            "application/vnd.google.colaboratory.intrinsic+json": {
              "type": "string"
            },
            "text/plain": [
              "'cuba'"
            ]
          },
          "execution_count": 86,
          "metadata": {},
          "output_type": "execute_result"
        }
      ],
      "source": [
        "# set device type\n",
        "device = 'cuba' if torch.cuda.is_available( ) else 'cpu'\n",
        "device"
      ]
    },
    {
      "cell_type": "code",
      "execution_count": null,
      "metadata": {
        "colab": {
          "base_uri": "https://localhost:8080/"
        },
        "id": "rP9WF5qAaf6A",
        "outputId": "149581b6-c238-41b5-e6a1-6cfd92099e50"
      },
      "outputs": [
        {
          "data": {
            "text/plain": [
              "1"
            ]
          },
          "execution_count": 87,
          "metadata": {},
          "output_type": "execute_result"
        }
      ],
      "source": [
        "# Count number of devices\n",
        "torch.cuda.device_count()"
      ]
    },
    {
      "cell_type": "code",
      "execution_count": null,
      "metadata": {
        "colab": {
          "base_uri": "https://localhost:8080/"
        },
        "id": "y_k3NK30ayMK",
        "outputId": "7b497e42-9c86-4264-9936-cc4d5626b192"
      },
      "outputs": [
        {
          "data": {
            "text/plain": [
              "False"
            ]
          },
          "execution_count": 88,
          "metadata": {},
          "output_type": "execute_result"
        }
      ],
      "source": [
        "# Check for Apple Silicon GPU\n",
        "import torch\n",
        "torch.backends.mps.is_available() # Note this will print false if you're not running on a Mac"
      ]
    },
    {
      "cell_type": "code",
      "execution_count": null,
      "metadata": {
        "colab": {
          "base_uri": "https://localhost:8080/"
        },
        "id": "31NN5GJUPE5A",
        "outputId": "8de5b23a-519e-4efc-c773-8bac4bb37fc5"
      },
      "outputs": [
        {
          "data": {
            "application/vnd.google.colaboratory.intrinsic+json": {
              "type": "string"
            },
            "text/plain": [
              "'cpu'"
            ]
          },
          "execution_count": 89,
          "metadata": {},
          "output_type": "execute_result"
        }
      ],
      "source": [
        "# Set device type\n",
        "device = \"mps\" if torch.backends.mps.is_available() else \"cpu\"\n",
        "device"
      ]
    },
    {
      "cell_type": "code",
      "execution_count": null,
      "metadata": {
        "id": "_JdiOf71PMUG"
      },
      "outputs": [],
      "source": [
        "if torch.cuda.is_available():\n",
        "    device = \"cuda\" # Use NVIDIA GPU (if available)\n",
        "elif torch.backends.mps.is_available():\n",
        "    device = \"mps\" # Use Apple Silicon GPU (if available)\n",
        "else:\n",
        "    device = \"cpu\" # Default to CPU if no GPU is available"
      ]
    },
    {
      "cell_type": "code",
      "execution_count": null,
      "metadata": {
        "colab": {
          "base_uri": "https://localhost:8080/"
        },
        "id": "oQIFWKouPzTd",
        "outputId": "9287626f-ab70-4dbd-8638-a6fe3d364524"
      },
      "outputs": [
        {
          "name": "stdout",
          "output_type": "stream",
          "text": [
            "tensor([1, 2, 3]) cpu\n"
          ]
        },
        {
          "data": {
            "text/plain": [
              "tensor([1, 2, 3], device='cuda:0')"
            ]
          },
          "execution_count": 91,
          "metadata": {},
          "output_type": "execute_result"
        }
      ],
      "source": [
        "# Create tensor (default on CPU)\n",
        "tensor = torch.tensor([1, 2, 3])\n",
        "\n",
        "# Tensor not on GPU\n",
        "print(tensor, tensor.device)\n",
        "\n",
        "# Move tensor to GPU (if available)\n",
        "tensor_on_gpu = tensor.to(device)\n",
        "tensor_on_gpu"
      ]
    },
    {
      "cell_type": "code",
      "execution_count": null,
      "metadata": {
        "colab": {
          "base_uri": "https://localhost:8080/"
        },
        "id": "DjfhHUGVP6E4",
        "outputId": "e4a887c5-2ca1-4794-f18f-1ae9dc89d94c"
      },
      "outputs": [
        {
          "data": {
            "text/plain": [
              "array([1, 2, 3])"
            ]
          },
          "execution_count": 92,
          "metadata": {},
          "output_type": "execute_result"
        }
      ],
      "source": [
        "# tensor_on_gpu.numpy()\n",
        "# Instead, copy the tensor back to cpu\n",
        "tensor_back_on_cpu = tensor_on_gpu.cpu().numpy()\n",
        "tensor_back_on_cpu"
      ]
    },
    {
      "cell_type": "code",
      "execution_count": null,
      "metadata": {
        "colab": {
          "base_uri": "https://localhost:8080/"
        },
        "id": "EV0bv1-rQ64e",
        "outputId": "eedf209a-4987-4df3-de59-754b07757f27"
      },
      "outputs": [
        {
          "data": {
            "text/plain": [
              "tensor([1, 2, 3], device='cuda:0')"
            ]
          },
          "execution_count": 93,
          "metadata": {},
          "output_type": "execute_result"
        }
      ],
      "source": [
        "tensor_on_gpu"
      ]
    },
    {
      "cell_type": "markdown",
      "metadata": {
        "id": "x2iqN4oaRQRA"
      },
      "source": [
        "# PyTorch Workflow"
      ]
    },
    {
      "cell_type": "code",
      "execution_count": null,
      "metadata": {
        "colab": {
          "base_uri": "https://localhost:8080/"
        },
        "id": "K2CyVKcgPp1e",
        "outputId": "cdda679e-970a-4f4a-d202-a0a5dd602484"
      },
      "outputs": [
        {
          "data": {
            "application/vnd.google.colaboratory.intrinsic+json": {
              "type": "string"
            },
            "text/plain": [
              "'2.5.1+cu121'"
            ]
          },
          "execution_count": 94,
          "metadata": {},
          "output_type": "execute_result"
        }
      ],
      "source": [
        "import torch\n",
        "from torch import nn\n",
        "import matplotlib.pyplot as plt\n",
        "torch.__version__"
      ]
    },
    {
      "cell_type": "code",
      "execution_count": null,
      "metadata": {
        "colab": {
          "base_uri": "https://localhost:8080/"
        },
        "id": "CTEwAGq03vH7",
        "outputId": "e1ec68ac-8a9f-4df0-d010-0d44a3af6219"
      },
      "outputs": [
        {
          "data": {
            "text/plain": [
              "(tensor([[0.0000],\n",
              "         [0.0200],\n",
              "         [0.0400],\n",
              "         [0.0600],\n",
              "         [0.0800],\n",
              "         [0.1000],\n",
              "         [0.1200],\n",
              "         [0.1400],\n",
              "         [0.1600],\n",
              "         [0.1800]]),\n",
              " tensor([[0.3000],\n",
              "         [0.3140],\n",
              "         [0.3280],\n",
              "         [0.3420],\n",
              "         [0.3560],\n",
              "         [0.3700],\n",
              "         [0.3840],\n",
              "         [0.3980],\n",
              "         [0.4120],\n",
              "         [0.4260]]))"
            ]
          },
          "execution_count": 95,
          "metadata": {},
          "output_type": "execute_result"
        }
      ],
      "source": [
        "weight = 0.7\n",
        "bias = 0.3\n",
        "# create data\n",
        "start = 0\n",
        "end = 1\n",
        "step = 0.02\n",
        "X = torch.arange(0,1,0.02).unsqueeze(dim = 1)\n",
        "Y = weight*X + bias\n",
        "X[:10], Y[:10]"
      ]
    },
    {
      "cell_type": "code",
      "execution_count": null,
      "metadata": {
        "colab": {
          "base_uri": "https://localhost:8080/"
        },
        "id": "xalV2Rna4lKm",
        "outputId": "0aeba16c-408f-4147-d4e3-0a74d763db7a"
      },
      "outputs": [
        {
          "data": {
            "text/plain": [
              "(40, 40, 10, 10)"
            ]
          },
          "execution_count": 96,
          "metadata": {},
          "output_type": "execute_result"
        }
      ],
      "source": [
        "# Applying train test split\n",
        "train_split = int(0.8* len(X))\n",
        "X_train, Y_train = X[:train_split], Y[:train_split]\n",
        "X_test, Y_test = X[train_split:], Y[train_split:]\n",
        "len(X_train), len(Y_train), len(X_test), len(Y_test)"
      ]
    },
    {
      "cell_type": "code",
      "execution_count": null,
      "metadata": {
        "id": "Br3KDSNZ6617"
      },
      "outputs": [],
      "source": [
        "def plot_predictions(train_data=X_train,\n",
        "                     train_labels=Y_train,\n",
        "                     test_data=X_test,\n",
        "                     test_labels=Y_test,\n",
        "                     predictions=None):\n",
        "  \"\"\"\n",
        "  Plots training data, test data and compares predictions.\n",
        "  \"\"\"\n",
        "  plt.figure(figsize=(10, 7))\n",
        "\n",
        "  # Plot training data in blue\n",
        "  plt.scatter(train_data, train_labels, c=\"b\", s=4, label=\"Training data\")\n",
        "\n",
        "  # Plot test data in green\n",
        "  plt.scatter(test_data, test_labels, c=\"g\", s=4, label=\"Testing data\")\n",
        "\n",
        "  if predictions is not None:\n",
        "    # Plot the predictions in red (predictions were made on the test data)\n",
        "    plt.scatter(test_data, predictions, c=\"r\", s=4, label=\"Predictions\")\n",
        "\n",
        "  # Show the legend\n",
        "  plt.legend(prop={\"size\": 14});"
      ]
    },
    {
      "cell_type": "code",
      "execution_count": null,
      "metadata": {
        "id": "JPOCVEKU8n3P"
      },
      "outputs": [],
      "source": [
        "plot_predictions()"
      ]
    },
    {
      "cell_type": "code",
      "execution_count": null,
      "metadata": {
        "id": "N6yg8E6S8vjl"
      },
      "outputs": [],
      "source": [
        "# Create a linear regression model class\n",
        "class LinearRegressionModel(nn.Module):\n",
        "    def __init__(self):\n",
        "        super().__init__()\n",
        "        self.weights = nn.Parameter(torch.randn(1, dtype=torch.float), requires_grad=True)\n",
        "        self.bias = nn.Parameter(torch.randn(1))\n",
        "\n",
        "    # The forward method should be defined at the class level, not inside __init__\n",
        "    def forward(self, x: torch.Tensor) -> torch.Tensor:\n",
        "        # Fix typo: 'waights' should be 'weights'\n",
        "        return self.weights * x + self.bias"
      ]
    },
    {
      "cell_type": "code",
      "execution_count": null,
      "metadata": {
        "id": "dlIZCs00AzNy"
      },
      "outputs": [],
      "source": [
        "# Set manual seed since nn.Parameter are randomly initialized\n",
        "torch.manual_seed(42)\n",
        "\n",
        "# Create an instance of the model (this is a subclass of nn.Module that contains nn.Parameter(s))\n",
        "model_0 = LinearRegressionModel()\n",
        "\n",
        "# Check the nn.Parameter(s) within the nn.Module subclass we created\n",
        "list(model_0.parameters())"
      ]
    },
    {
      "cell_type": "code",
      "execution_count": null,
      "metadata": {
        "id": "v9AR9oSvBaru"
      },
      "outputs": [],
      "source": [
        "# listing named parameters\n",
        "model_0.state_dict()"
      ]
    },
    {
      "cell_type": "markdown",
      "metadata": {
        "id": "vTZszMjFBus3"
      },
      "source": [
        "Making predictions"
      ]
    },
    {
      "cell_type": "code",
      "execution_count": null,
      "metadata": {
        "id": "vDhiSCtjB42t"
      },
      "outputs": [],
      "source": [
        "with torch.inference_mode():\n",
        "  Y_preds = model_0(X_test)\n"
      ]
    },
    {
      "cell_type": "code",
      "execution_count": null,
      "metadata": {
        "id": "4pQATepECII_"
      },
      "outputs": [],
      "source": [
        "# Check the predictions\n",
        "print(f\"Number of testing samples: {len(X_test)}\")\n",
        "print(f\"Number of predictions made: {len(Y_preds)}\")\n",
        "print(f\"Predicted values:\\n{Y_preds}\")"
      ]
    },
    {
      "cell_type": "code",
      "execution_count": null,
      "metadata": {
        "id": "qFRgwazM4gLh"
      },
      "outputs": [],
      "source": [
        "plot_predictions(predictions = Y_preds)"
      ]
    },
    {
      "cell_type": "code",
      "execution_count": null,
      "metadata": {
        "id": "8mpEkYRV4ue_"
      },
      "outputs": [],
      "source": [
        "Y_test - Y_preds"
      ]
    },
    {
      "cell_type": "markdown",
      "metadata": {
        "id": "mVQnFTIw6DU5"
      },
      "source": [
        "Loss funtions"
      ]
    },
    {
      "cell_type": "code",
      "execution_count": null,
      "metadata": {
        "colab": {
          "background_save": true
        },
        "id": "LY5Vr44744YM"
      },
      "outputs": [],
      "source": [
        "loss_fn = nn.L1Loss()\n",
        "optimizer = torch.optim.SGD(params = model_0.parameters(), lr = 0.01)"
      ]
    },
    {
      "cell_type": "markdown",
      "metadata": {
        "id": "zV-26HJ46Vke"
      },
      "source": [
        "### loops under torch\n"
      ]
    },
    {
      "cell_type": "markdown",
      "metadata": {
        "id": "4KcXcH2oBCl9"
      },
      "source": [
        "\n",
        "\n",
        "1.   do the forward loss\n",
        "2.   calculate loss\n",
        "3.   optimize zero grad\n",
        "4.   loss backward\n",
        "5.   update optimizer\n",
        "\n"
      ]
    },
    {
      "cell_type": "code",
      "execution_count": null,
      "metadata": {
        "colab": {
          "background_save": true
        },
        "id": "9YI9hiiMlv_n"
      },
      "outputs": [],
      "source": [
        "with torch.inference_mode():\n",
        "  list(model_0.parameters())"
      ]
    },
    {
      "cell_type": "code",
      "execution_count": null,
      "metadata": {
        "colab": {
          "background_save": true
        },
        "id": "xiNCgHW4mQee",
        "outputId": "1f3f3302-884b-42cd-ebf5-d03a40778958"
      },
      "outputs": [
        {
          "data": {
            "text/plain": [
              "[Parameter containing:\n",
              " tensor([0.3367], requires_grad=True),\n",
              " Parameter containing:\n",
              " tensor([0.1288], requires_grad=True)]"
            ]
          },
          "execution_count": 108,
          "metadata": {},
          "output_type": "execute_result"
        }
      ],
      "source": [
        "list(model_0.parameters())"
      ]
    },
    {
      "cell_type": "code",
      "execution_count": null,
      "metadata": {
        "colab": {
          "background_save": true
        },
        "id": "VxHKPcu6BP0v",
        "outputId": "028ed252-7103-44f1-e123-031afbae8d8b"
      },
      "outputs": [
        {
          "name": "stdout",
          "output_type": "stream",
          "text": [
            "Epoch: 0 | Train Loss: 0.3129 | Test Loss: 0.4811\n",
            "Epoch: 10 | Train Loss: 0.1977 | Test Loss: 0.3464\n",
            "Epoch: 20 | Train Loss: 0.0891 | Test Loss: 0.2173\n",
            "Epoch: 30 | Train Loss: 0.0531 | Test Loss: 0.1446\n",
            "Epoch: 40 | Train Loss: 0.0454 | Test Loss: 0.1136\n",
            "Epoch: 50 | Train Loss: 0.0417 | Test Loss: 0.0992\n",
            "Epoch: 60 | Train Loss: 0.0382 | Test Loss: 0.0889\n",
            "Epoch: 70 | Train Loss: 0.0348 | Test Loss: 0.0806\n",
            "Epoch: 80 | Train Loss: 0.0313 | Test Loss: 0.0723\n",
            "Epoch: 90 | Train Loss: 0.0279 | Test Loss: 0.0647\n"
          ]
        }
      ],
      "source": [
        "torch.manual_seed(42)\n",
        "epochs = 100\n",
        "train_loss_values = []\n",
        "test_loss_values = []\n",
        "epoch_count = []\n",
        "\n",
        "# Loop through epochs\n",
        "for epoch in range(epochs):\n",
        "    model_0.train()  # set to training mode\n",
        "    Y_pred = model_0(X_train)  # forward pass\n",
        "    train_loss = loss_fn(Y_pred, Y_train)  # calculate train loss\n",
        "    optimizer.zero_grad()  # zero gradients\n",
        "    train_loss.backward()  # backward pass\n",
        "    optimizer.step()  # optimize step\n",
        "\n",
        "    # Testing\n",
        "    model_0.eval()  # set to evaluation mode\n",
        "    with torch.inference_mode():\n",
        "        test_pred = model_0(X_test)  # forward pass\n",
        "        test_loss = loss_fn(test_pred, Y_test)  # calculate test loss\n",
        "\n",
        "    # Log every 10 epochs\n",
        "    if epoch % 10 == 0:\n",
        "        epoch_count.append(epoch)\n",
        "        train_loss_values.append(train_loss.detach().numpy())  # convert to Python float\n",
        "        test_loss_values.append(test_loss.detach().numpy())\n",
        "        print(f\"Epoch: {epoch} | Train Loss: {train_loss.item():.4f} | Test Loss: {test_loss.item():.4f}\")\n"
      ]
    },
    {
      "cell_type": "code",
      "execution_count": null,
      "metadata": {
        "colab": {
          "background_save": true
        },
        "id": "_yiHh1JVpzX6",
        "outputId": "609f8f2a-fe5b-4632-cf12-49b085214235"
      },
      "outputs": [
        {
          "data": {
            "image/png": "[encoded data removed]",
            "text/plain": [
              "<Figure size 640x480 with 1 Axes>"
            ]
          },
          "metadata": {},
          "output_type": "display_data"
        }
      ],
      "source": [
        "# plot the loss curves\n",
        "plt.plot(epoch_count, train_loss_values, label = \"train loss\")\n",
        "plt.plot(epoch_count, test_loss_values, label = \"test loss\")\n",
        "plt.title(\"Training and tes loss curves\")\n",
        "plt.ylabel(\"loss\")\n",
        "plt.xlabel(\"epochs\")\n",
        "plt.legend();"
      ]
    },
    {
      "cell_type": "code",
      "execution_count": null,
      "metadata": {
        "colab": {
          "background_save": true
        },
        "id": "nPC6UTuvwGpj",
        "outputId": "061d654e-ef71-4926-d554-41faaa8339a5"
      },
      "outputs": [
        {
          "name": "stdout",
          "output_type": "stream",
          "text": [
            "learned weights and bias:  OrderedDict([('weights', tensor([0.5784])), ('bias', tensor([0.3513]))])\n",
            "\n",
            " the original weights and bias {0.7} {0.3}\n"
          ]
        }
      ],
      "source": [
        "# finding our final learned parameters\n",
        "print(\"learned weights and bias: \", model_0.state_dict())\n",
        "print(\"\\n the original weights and bias\", {weight},  {bias})"
      ]
    },
    {
      "cell_type": "markdown",
      "metadata": {
        "id": "G03ZJb_gxUS1"
      },
      "source": [
        "Making predictions"
      ]
    },
    {
      "cell_type": "code",
      "execution_count": null,
      "metadata": {
        "colab": {
          "background_save": true
        },
        "id": "sxGb5GKOy52k",
        "outputId": "5c5e516b-cbc9-4834-e789-eab02349f83d"
      },
      "outputs": [
        {
          "data": {
            "text/plain": [
              "tensor([[0.8141],\n",
              "        [0.8256],\n",
              "        [0.8372],\n",
              "        [0.8488],\n",
              "        [0.8603],\n",
              "        [0.8719],\n",
              "        [0.8835],\n",
              "        [0.8950],\n",
              "        [0.9066],\n",
              "        [0.9182]])"
            ]
          },
          "execution_count": 112,
          "metadata": {},
          "output_type": "execute_result"
        }
      ],
      "source": [
        "model_0.eval()\n",
        "with torch.inference_mode():\n",
        "  Y_preds = model_0(X_test)\n",
        "Y_preds"
      ]
    },
    {
      "cell_type": "code",
      "execution_count": null,
      "metadata": {
        "colab": {
          "background_save": true
        },
        "id": "s1FkmKPjzKM5",
        "outputId": "6e337c51-a6dc-41b6-f43b-9ba9691066d7"
      },
      "outputs": [
        {
          "data": {
            "image/png": "[encoded data removed]",
            "text/plain": [
              "<Figure size 1000x700 with 1 Axes>"
            ]
          },
          "metadata": {},
          "output_type": "display_data"
        }
      ],
      "source": [
        "plot_predictions(predictions = Y_preds)"
      ]
    },
    {
      "cell_type": "code",
      "execution_count": null,
      "metadata": {
        "colab": {
          "background_save": true
        },
        "id": "qnRqzE4zzTy7",
        "outputId": "140d9324-28d6-4583-bc88-268a19e069fb"
      },
      "outputs": [
        {
          "name": "stdout",
          "output_type": "stream",
          "text": [
            "Saving model to: models/pytorch_workflow.pth\n"
          ]
        }
      ],
      "source": [
        "# Saving the model\n",
        "from pathlib import Path\n",
        "model_path = Path(\"models\")\n",
        "model_path.mkdir(parents = True, exist_ok = True)\n",
        "\n",
        "model_name = \"pytorch_workflow.pth\"\n",
        "model_save_path = model_path / model_name\n",
        "\n",
        "print(f\"Saving model to: {model_save_path}\")\n",
        "torch.save(obj = model_0.state_dict(), f = model_save_path )"
      ]
    },
    {
      "cell_type": "code",
      "execution_count": null,
      "metadata": {
        "colab": {
          "background_save": true
        },
        "id": "y3-2zlb01zV9",
        "outputId": "b7f07297-805a-4dc5-e26a-fe7196e743fa"
      },
      "outputs": [
        {
          "name": "stdout",
          "output_type": "stream",
          "text": [
            "-rw-r--r-- 1 root root 1550 Dec 24 06:29 models/pytorch_workflow.pth\n"
          ]
        }
      ],
      "source": [
        "# cheaking the saved file\n",
        "!ls -l models/pytorch_workflow.pth"
      ]
    },
    {
      "cell_type": "code",
      "execution_count": null,
      "metadata": {
        "colab": {
          "background_save": true
        },
        "id": "OFhMGViV2LBy",
        "outputId": "771a3267-b593-4a17-cdc8-1612ed42df01"
      },
      "outputs": [
        {
          "name": "stderr",
          "output_type": "stream",
          "text": [
            "<ipython-input-116-edd2cedda596>:2: FutureWarning: You are using `torch.load` with `weights_only=False` (the current default value), which uses the default pickle module implicitly. It is possible to construct malicious pickle data which will execute arbitrary code during unpickling (See https://github.com/pytorch/pytorch/blob/main/SECURITY.md#untrusted-models for more details). In a future release, the default value for `weights_only` will be flipped to `True`. This limits the functions that could be executed during unpickling. Arbitrary objects will no longer be allowed to be loaded via this mode unless they are explicitly allowlisted by the user via `torch.serialization.add_safe_globals`. We recommend you start setting `weights_only=True` for any use case where you don't have full control of the loaded file. Please open an issue on GitHub for any issues related to this experimental feature.\n",
            "  loaded_model_0.load_state_dict(torch.load(f = model_save_path))\n"
          ]
        },
        {
          "data": {
            "text/plain": [
              "<All keys matched successfully>"
            ]
          },
          "execution_count": 116,
          "metadata": {},
          "output_type": "execute_result"
        }
      ],
      "source": [
        "loaded_model_0 = LinearRegressionModel()\n",
        "loaded_model_0.load_state_dict(torch.load(f = model_save_path))"
      ]
    },
    {
      "cell_type": "code",
      "execution_count": null,
      "metadata": {
        "colab": {
          "background_save": true
        },
        "id": "kKM65NP23E7K"
      },
      "outputs": [],
      "source": [
        "# putting loaded model into evaluation mode\n",
        "loaded_model_0.eval()\n",
        "with torch.inference_mode():\n",
        "  loaded_model_preds = loaded_model_0(X_test)"
      ]
    }
  ],
  "metadata": {
    "accelerator": "GPU",
    "colab": {
      "gpuType": "T4",
      "toc_visible": true,
      "provenance": [],
      "authorship_tag": "ABX9TyNxIrFNcB9B8QkeVd78GK0l",
      "include_colab_link": true
    },
    "kernelspec": {
      "display_name": "Python 3",
      "name": "python3"
    },
    "language_info": {
      "name": "python"
    }
  },
  "nbformat": 4,
  "nbformat_minor": 0
}